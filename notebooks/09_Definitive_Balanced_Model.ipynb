{
 "cells": [
  {
   "cell_type": "markdown",
   "id": "f5a6afb9",
   "metadata": {},
   "source": [
    "# Player Performance Predictor - Definitive Balanced Model Training\n",
    "\n",
    "**Goal:** Build our final, high-accuracy models using the 'class_weight' parameter to solve class imbalance in a memory-efficient way, allowing us to train on the full, unfiltered format-specific data."
   ]
  },
  {
   "cell_type": "markdown",
   "id": "4a4e3df0",
   "metadata": {},
   "source": [
    "### Step 1: Configuration - CHOOSE THE FORMAT TO TRAIN"
   ]
  },
  {
   "cell_type": "code",
   "execution_count": 1,
   "id": "ad3e0195",
   "metadata": {},
   "outputs": [
    {
     "name": "stdout",
     "output_type": "stream",
     "text": [
      "Configuration set to train models for: Test\n"
     ]
    }
   ],
   "source": [
    "MATCH_FORMAT_TO_TRAIN = \"Test\" # <-- CHANGE THIS VALUE (e.g., \"ODI\" or \"Test\")\n",
    "\n",
    "print(f\"Configuration set to train models for: {MATCH_FORMAT_TO_TRAIN}\")"
   ]
  },
  {
   "cell_type": "markdown",
   "id": "0ac6b5fe",
   "metadata": {},
   "source": [
    "### Step 2: Load Data & Define Custom Bins"
   ]
  },
  {
   "cell_type": "code",
   "execution_count": 2,
   "id": "208828bf",
   "metadata": {},
   "outputs": [
    {
     "name": "stdout",
     "output_type": "stream",
     "text": [
      "Data loaded for Test.\n",
      "Custom performance bins defined and applied.\n"
     ]
    }
   ],
   "source": [
    "import pandas as pd\n",
    "import numpy as np\n",
    "import sqlite3\n",
    "import joblib\n",
    "import os\n",
    "from sklearn.model_selection import train_test_split\n",
    "from sklearn.ensemble import RandomForestClassifier\n",
    "from sklearn.metrics import accuracy_score, classification_report\n",
    "\n",
    "db_path = '../cricket_final_data_by_format.db'\n",
    "conn = sqlite3.connect(db_path)\n",
    "batting_df_full = pd.read_sql_query(\"SELECT * FROM batting_stats\", conn)\n",
    "bowling_df_full = pd.read_sql_query(\"SELECT * FROM bowling_stats\", conn)\n",
    "conn.close()\n",
    "\n",
    "batting_df = batting_df_full[batting_df_full['match_type'] == MATCH_FORMAT_TO_TRAIN].copy()\n",
    "bowling_df = bowling_df_full[bowling_df_full['match_type'] == MATCH_FORMAT_TO_TRAIN].copy()\n",
    "batting_df['date'] = pd.to_datetime(batting_df['date'])\n",
    "bowling_df['date'] = pd.to_datetime(bowling_df['date'])\n",
    "print(f\"Data loaded for {MATCH_FORMAT_TO_TRAIN}.\")\n",
    "\n",
    "if MATCH_FORMAT_TO_TRAIN == 'T20':\n",
    "    run_bins = [-1, 15, 29, 49, 999]\n",
    "    run_labels = ['0-15', '16-29', '30-49', '50+']\n",
    "    wicket_bins = [-1, 1, 3, 99]\n",
    "    wicket_labels = ['0-1', '2-3', '4+']\n",
    "elif MATCH_FORMAT_TO_TRAIN == 'ODI':\n",
    "    run_bins = [-1, 24, 49, 99, 999]\n",
    "    run_labels = ['0-24', '25-49', '50-99', '100+']\n",
    "    wicket_bins = [-1, 1, 3, 99]\n",
    "    wicket_labels = ['0-1', '2-3', '4+']\n",
    "else: # Test\n",
    "    run_bins = [-1, 24, 49, 99, 999]\n",
    "    run_labels = ['0-24', '25-49', '50-99', '100+']\n",
    "    wicket_bins = [-1, 2, 4, 99]\n",
    "    wicket_labels = ['0-2', '3-4', '5+']\n",
    "\n",
    "batting_df['runs_bin'] = pd.cut(batting_df['runs'], bins=run_bins, labels=run_labels)\n",
    "bowling_df['wickets_bin'] = pd.cut(bowling_df['wickets'], bins=wicket_bins, labels=wicket_labels)\n",
    "print(\"Custom performance bins defined and applied.\")"
   ]
  },
  {
   "cell_type": "markdown",
   "id": "87d0ca61",
   "metadata": {},
   "source": [
    "## Part A: Training the Batting Classification Model"
   ]
  },
  {
   "cell_type": "markdown",
   "id": "6c637984",
   "metadata": {},
   "source": [
    "### Step 3: Feature Engineering for Batting"
   ]
  },
  {
   "cell_type": "code",
   "execution_count": 3,
   "id": "7c783014",
   "metadata": {},
   "outputs": [
    {
     "name": "stdout",
     "output_type": "stream",
     "text": [
      "Creating features for batting data...\n",
      "Feature engineering complete.\n"
     ]
    }
   ],
   "source": [
    "print(\"Creating features for batting data...\")\n",
    "batting_df['career_avg'] = np.where(batting_df['career_innings'] > 0, batting_df['career_runs'] / batting_df['career_innings'], 0)\n",
    "batting_df['career_sr'] = np.where(batting_df['career_balls_faced'] > 0, (batting_df['career_runs'] / batting_df['career_balls_faced']) * 100, 0)\n",
    "batting_df['form_avg_last_10'] = batting_df.groupby('player')['runs'].transform(lambda x: x.rolling(window=10, min_periods=1).mean().shift(1))\n",
    "batting_df['form_avg_last_10'] = batting_df['form_avg_last_10'].fillna(0)\n",
    "\n",
    "match_teams = batting_df_full.groupby('match_id')['team'].unique().apply(list).to_dict()\n",
    "def find_opposition(row):\n",
    "    teams_in_match = match_teams.get(row['match_id'])\n",
    "    if teams_in_match and len(teams_in_match) == 2:\n",
    "        return teams_in_match[1] if teams_in_match[0] == row['team'] else teams_in_match[0]\n",
    "    return 'N/A'\n",
    "batting_df['against_team'] = batting_df.apply(find_opposition, axis=1)\n",
    "print(\"Feature engineering complete.\")"
   ]
  },
  {
   "cell_type": "markdown",
   "id": "0f9985bc",
   "metadata": {},
   "source": [
    "### Step 4: Prepare Batting Data for Modeling"
   ]
  },
  {
   "cell_type": "code",
   "execution_count": 4,
   "id": "acfe3f0a",
   "metadata": {},
   "outputs": [
    {
     "name": "stdout",
     "output_type": "stream",
     "text": [
      "Batting data prepared.\n",
      "Final shape of Test batting feature matrix (X): (99992, 3068)\n"
     ]
    }
   ],
   "source": [
    "batting_df.dropna(subset=['runs_bin', 'player', 'venue', 'against_team'], inplace=True)\n",
    "\n",
    "categorical_features = ['player', 'venue', 'against_team']\n",
    "numerical_features = ['career_avg', 'career_sr', 'career_innings', 'form_avg_last_10']\n",
    "target = 'runs_bin'\n",
    "\n",
    "X = pd.concat([\n",
    "    pd.get_dummies(batting_df[categorical_features], columns=categorical_features),\n",
    "    batting_df[numerical_features]\n",
    "], axis=1)\n",
    "y = batting_df[target]\n",
    "\n",
    "print(\"Batting data prepared.\")\n",
    "print(f\"Final shape of {MATCH_FORMAT_TO_TRAIN} batting feature matrix (X):\", X.shape)"
   ]
  },
  {
   "cell_type": "markdown",
   "id": "a1a9790c",
   "metadata": {},
   "source": [
    "### Step 5: Train & Evaluate the Batting Classifier (with Class Weights)"
   ]
  },
  {
   "cell_type": "code",
   "execution_count": 5,
   "id": "bb92fd45",
   "metadata": {},
   "outputs": [
    {
     "name": "stdout",
     "output_type": "stream",
     "text": [
      "Training the Test batting classifier with balanced class weights...\n"
     ]
    },
    {
     "name": "stderr",
     "output_type": "stream",
     "text": [
      "[Parallel(n_jobs=11)]: Using backend ThreadingBackend with 11 concurrent workers.\n"
     ]
    },
    {
     "name": "stdout",
     "output_type": "stream",
     "text": [
      "building tree 1 of 100\n",
      "building tree 2 of 100\n",
      "building tree 3 of 100\n",
      "building tree 4 of 100\n",
      "building tree 5 of 100\n",
      "building tree 6 of 100\n",
      "building tree 7 of 100\n",
      "building tree 8 of 100\n",
      "building tree 9 of 100\n",
      "building tree 10 of 100\n",
      "building tree 11 of 100\n",
      "building tree 12 of 100\n",
      "building tree 13 of 100\n",
      "building tree 14 of 100\n",
      "building tree 15 of 100\n",
      "building tree 16 of 100\n",
      "building tree 17 of 100\n",
      "building tree 18 of 100\n",
      "building tree 19 of 100\n",
      "building tree 20 of 100\n",
      "building tree 21 of 100\n",
      "building tree 22 of 100\n",
      "building tree 23 of 100\n",
      "building tree 24 of 100\n",
      "building tree 25 of 100\n",
      "building tree 26 of 100\n",
      "building tree 27 of 100\n",
      "building tree 28 of 100\n",
      "building tree 29 of 100\n",
      "building tree 30 of 100\n",
      "building tree 31 of 100\n"
     ]
    },
    {
     "name": "stderr",
     "output_type": "stream",
     "text": [
      "[Parallel(n_jobs=11)]: Done  19 tasks      | elapsed:   10.7s\n"
     ]
    },
    {
     "name": "stdout",
     "output_type": "stream",
     "text": [
      "building tree 32 of 100\n",
      "building tree 33 of 100\n",
      "building tree 34 of 100\n",
      "building tree 35 of 100\n",
      "building tree 36 of 100\n",
      "building tree 37 of 100\n",
      "building tree 38 of 100\n",
      "building tree 39 of 100\n",
      "building tree 40 of 100\n",
      "building tree 41 of 100\n",
      "building tree 42 of 100\n",
      "building tree 43 of 100\n",
      "building tree 44 of 100\n",
      "building tree 45 of 100\n",
      "building tree 46 of 100\n",
      "building tree 47 of 100\n",
      "building tree 48 of 100\n",
      "building tree 49 of 100\n",
      "building tree 50 of 100\n",
      "building tree 51 of 100\n",
      "building tree 52 of 100\n",
      "building tree 53 of 100\n",
      "building tree 54 of 100\n",
      "building tree 55 of 100\n",
      "building tree 56 of 100\n",
      "building tree 57 of 100\n",
      "building tree 58 of 100\n",
      "building tree 59 of 100\n",
      "building tree 60 of 100\n",
      "building tree 61 of 100\n",
      "building tree 62 of 100\n",
      "building tree 63 of 100\n",
      "building tree 64 of 100\n",
      "building tree 65 of 100\n",
      "building tree 66 of 100\n",
      "building tree 67 of 100\n",
      "building tree 68 of 100\n",
      "building tree 69 of 100\n",
      "building tree 70 of 100\n",
      "building tree 71 of 100\n",
      "building tree 72 of 100\n",
      "building tree 73 of 100\n",
      "building tree 74 of 100building tree 75 of 100\n",
      "\n",
      "building tree 76 of 100\n",
      "building tree 77 of 100\n",
      "building tree 78 of 100\n",
      "building tree 79 of 100\n",
      "building tree 80 of 100\n",
      "building tree 81 of 100\n",
      "building tree 82 of 100\n",
      "building tree 83 of 100\n",
      "building tree 84 of 100\n",
      "building tree 85 of 100\n",
      "building tree 86 of 100\n",
      "building tree 87 of 100\n",
      "building tree 88 of 100\n",
      "building tree 89 of 100\n",
      "building tree 90 of 100\n",
      "building tree 91 of 100\n",
      "building tree 92 of 100\n",
      "building tree 93 of 100\n",
      "building tree 94 of 100\n",
      "building tree 95 of 100\n",
      "building tree 96 of 100\n",
      "building tree 97 of 100\n",
      "building tree 98 of 100\n",
      "building tree 99 of 100\n",
      "building tree 100 of 100\n"
     ]
    },
    {
     "name": "stderr",
     "output_type": "stream",
     "text": [
      "[Parallel(n_jobs=11)]: Done 100 out of 100 | elapsed:   48.4s finished\n"
     ]
    },
    {
     "name": "stdout",
     "output_type": "stream",
     "text": [
      "Training complete.\n"
     ]
    },
    {
     "name": "stderr",
     "output_type": "stream",
     "text": [
      "[Parallel(n_jobs=11)]: Using backend ThreadingBackend with 11 concurrent workers.\n",
      "[Parallel(n_jobs=11)]: Done  19 tasks      | elapsed:    0.0s\n"
     ]
    },
    {
     "name": "stdout",
     "output_type": "stream",
     "text": [
      "\n",
      "--- Test Batting Model Evaluation ---\n",
      "Overall Accuracy: 59.43%\n",
      "\n",
      "Classification Report:\n",
      "              precision    recall  f1-score   support\n",
      "\n",
      "        0-24       0.66      0.87      0.75     13004\n",
      "        100+       0.08      0.02      0.03       925\n",
      "       25-49       0.22      0.10      0.14      3641\n",
      "       50-99       0.13      0.05      0.07      2429\n",
      "\n",
      "    accuracy                           0.59     19999\n",
      "   macro avg       0.27      0.26      0.25     19999\n",
      "weighted avg       0.49      0.59      0.53     19999\n",
      "\n"
     ]
    },
    {
     "name": "stderr",
     "output_type": "stream",
     "text": [
      "[Parallel(n_jobs=11)]: Done 100 out of 100 | elapsed:    0.4s finished\n"
     ]
    }
   ],
   "source": [
    "X_train, X_test, y_train, y_test = train_test_split(X, y, test_size=0.2, random_state=42, stratify=y)\n",
    "\n",
    "n_jobs = max(1, os.cpu_count() - 1)\n",
    "\n",
    "# --- DEFINITIVE CHANGE: Use class_weight='balanced' to handle imbalance without MemoryError ---\n",
    "batting_classifier = RandomForestClassifier(\n",
    "    n_estimators=100, \n",
    "    random_state=42, \n",
    "    n_jobs=n_jobs, \n",
    "    verbose=2,\n",
    "    class_weight='balanced'\n",
    ")\n",
    "\n",
    "print(f\"Training the {MATCH_FORMAT_TO_TRAIN} batting classifier with balanced class weights...\")\n",
    "batting_classifier.fit(X_train, y_train) # We train on the original, imbalanced data\n",
    "print(\"Training complete.\")\n",
    "\n",
    "predictions = batting_classifier.predict(X_test)\n",
    "accuracy = accuracy_score(y_test, predictions)\n",
    "\n",
    "print(f\"\\n--- {MATCH_FORMAT_TO_TRAIN} Batting Model Evaluation ---\")\n",
    "print(f\"Overall Accuracy: {accuracy * 100:.2f}%\")\n",
    "print(\"\\nClassification Report:\")\n",
    "print(classification_report(y_test, predictions, zero_division=0))"
   ]
  },
  {
   "cell_type": "markdown",
   "id": "66fea5e4",
   "metadata": {},
   "source": [
    "### Step 6: Save the Trained Batting Classifier"
   ]
  },
  {
   "cell_type": "code",
   "execution_count": 6,
   "id": "240b3a1f",
   "metadata": {},
   "outputs": [
    {
     "name": "stdout",
     "output_type": "stream",
     "text": [
      "Test batting classifier and columns saved successfully.\n"
     ]
    }
   ],
   "source": [
    "if not os.path.exists('../models'):\n",
    "    os.makedirs('../models')\n",
    "\n",
    "model_filename = f'../models/{MATCH_FORMAT_TO_TRAIN.lower()}_batting_classifier.joblib'\n",
    "columns_filename = f'../models/{MATCH_FORMAT_TO_TRAIN.lower()}_batting_columns.joblib'\n",
    "\n",
    "joblib.dump(batting_classifier, model_filename)\n",
    "joblib.dump(X.columns, columns_filename)\n",
    "\n",
    "print(f\"{MATCH_FORMAT_TO_TRAIN} batting classifier and columns saved successfully.\")"
   ]
  },
  {
   "cell_type": "markdown",
   "id": "c998bbd5",
   "metadata": {},
   "source": [
    "---"
   ]
  },
  {
   "cell_type": "markdown",
   "id": "7d652bd6",
   "metadata": {},
   "source": [
    "## Part B: Training the Bowling Classification Model"
   ]
  },
  {
   "cell_type": "markdown",
   "id": "043d9deb",
   "metadata": {},
   "source": [
    "### Step 7: Feature Engineering for Bowling"
   ]
  },
  {
   "cell_type": "code",
   "execution_count": 7,
   "id": "9502e413",
   "metadata": {},
   "outputs": [
    {
     "name": "stdout",
     "output_type": "stream",
     "text": [
      "\n",
      "Creating features for bowling data...\n",
      "Feature engineering complete.\n"
     ]
    }
   ],
   "source": [
    "print(\"\\nCreating features for bowling data...\")\n",
    "bowling_df['career_bowling_avg'] = np.where(bowling_df['career_wickets'] > 0, bowling_df['career_runs_conceded'] / bowling_df['career_wickets'], 0)\n",
    "bowling_df['career_bowling_sr'] = np.where(bowling_df['career_wickets'] > 0, bowling_df['career_balls_bowled'] / bowling_df['career_wickets'], 0)\n",
    "bowling_df['form_wickets_last_10'] = bowling_df.groupby('player')['wickets'].transform(lambda x: x.rolling(window=10, min_periods=1).mean().shift(1))\n",
    "bowling_df['form_wickets_last_10'] = bowling_df['form_wickets_last_10'].fillna(0)\n",
    "bowling_df['against_team'] = bowling_df.apply(find_opposition, axis=1)\n",
    "print(\"Feature engineering complete.\")"
   ]
  },
  {
   "cell_type": "markdown",
   "id": "3d11e9f8",
   "metadata": {},
   "source": [
    "### Step 8: Prepare Bowling Data for Modeling"
   ]
  },
  {
   "cell_type": "code",
   "execution_count": 8,
   "id": "50c6ec4a",
   "metadata": {},
   "outputs": [
    {
     "name": "stdout",
     "output_type": "stream",
     "text": [
      "Bowling data prepared.\n",
      "Final shape of Test bowling feature matrix (X): (56842, 2500)\n"
     ]
    }
   ],
   "source": [
    "bowling_df.dropna(subset=['wickets_bin', 'player', 'venue', 'against_team'], inplace=True)\n",
    "\n",
    "categorical_features_bowling = ['player', 'venue', 'against_team']\n",
    "numerical_features_bowling = ['career_bowling_avg', 'career_bowling_sr', 'form_wickets_last_10']\n",
    "target_bowling = 'wickets_bin'\n",
    "\n",
    "X_bowling = pd.concat([\n",
    "    pd.get_dummies(bowling_df[categorical_features_bowling], columns=categorical_features_bowling),\n",
    "    bowling_df[numerical_features_bowling]\n",
    "], axis=1)\n",
    "y_bowling = bowling_df[target_bowling]\n",
    "\n",
    "print(\"Bowling data prepared.\")\n",
    "print(f\"Final shape of {MATCH_FORMAT_TO_TRAIN} bowling feature matrix (X):\", X_bowling.shape)"
   ]
  },
  {
   "cell_type": "markdown",
   "id": "a4308c8b",
   "metadata": {},
   "source": [
    "### Step 9: Train & Evaluate the Bowling Classifier (with Class Weights)"
   ]
  },
  {
   "cell_type": "code",
   "execution_count": 9,
   "id": "bc6bbab5",
   "metadata": {},
   "outputs": [
    {
     "name": "stdout",
     "output_type": "stream",
     "text": [
      "\n",
      "Training the Test bowling classifier...\n"
     ]
    },
    {
     "name": "stderr",
     "output_type": "stream",
     "text": [
      "[Parallel(n_jobs=11)]: Using backend ThreadingBackend with 11 concurrent workers.\n"
     ]
    },
    {
     "name": "stdout",
     "output_type": "stream",
     "text": [
      "building tree 1 of 100building tree 2 of 100\n",
      "\n",
      "building tree 3 of 100\n",
      "building tree 4 of 100\n",
      "building tree 5 of 100\n",
      "building tree 6 of 100\n",
      "building tree 7 of 100\n",
      "building tree 8 of 100\n",
      "building tree 9 of 100\n",
      "building tree 10 of 100\n",
      "building tree 11 of 100\n",
      "building tree 12 of 100\n",
      "building tree 13 of 100\n",
      "building tree 14 of 100\n",
      "building tree 15 of 100\n",
      "building tree 16 of 100\n",
      "building tree 17 of 100\n",
      "building tree 18 of 100\n",
      "building tree 19 of 100\n",
      "building tree 20 of 100\n",
      "building tree 21 of 100\n",
      "building tree 22 of 100\n",
      "building tree 23 of 100\n",
      "building tree 24 of 100\n",
      "building tree 25 of 100\n",
      "building tree 26 of 100\n",
      "building tree 27 of 100\n",
      "building tree 28 of 100\n",
      "building tree 29 of 100\n",
      "building tree 30 of 100\n",
      "building tree 31 of 100\n",
      "building tree 32 of 100\n"
     ]
    },
    {
     "name": "stderr",
     "output_type": "stream",
     "text": [
      "[Parallel(n_jobs=11)]: Done  19 tasks      | elapsed:    4.6s\n"
     ]
    },
    {
     "name": "stdout",
     "output_type": "stream",
     "text": [
      "building tree 33 of 100\n",
      "building tree 34 of 100\n",
      "building tree 35 of 100\n",
      "building tree 36 of 100\n",
      "building tree 37 of 100\n",
      "building tree 38 of 100\n",
      "building tree 39 of 100\n",
      "building tree 40 of 100\n",
      "building tree 41 of 100\n",
      "building tree 42 of 100\n",
      "building tree 43 of 100\n",
      "building tree 44 of 100\n",
      "building tree 45 of 100\n",
      "building tree 46 of 100\n",
      "building tree 47 of 100\n",
      "building tree 48 of 100\n",
      "building tree 49 of 100\n",
      "building tree 50 of 100\n",
      "building tree 51 of 100\n",
      "building tree 52 of 100\n",
      "building tree 53 of 100\n",
      "building tree 54 of 100\n",
      "building tree 55 of 100\n",
      "building tree 56 of 100\n",
      "building tree 57 of 100\n",
      "building tree 58 of 100\n",
      "building tree 59 of 100\n",
      "building tree 60 of 100\n",
      "building tree 61 of 100\n",
      "building tree 62 of 100\n",
      "building tree 63 of 100\n",
      "building tree 64 of 100\n",
      "building tree 65 of 100\n",
      "building tree 66 of 100\n",
      "building tree 67 of 100\n",
      "building tree 68 of 100\n",
      "building tree 69 of 100\n",
      "building tree 70 of 100\n",
      "building tree 71 of 100\n",
      "building tree 72 of 100\n",
      "building tree 73 of 100\n",
      "building tree 74 of 100\n",
      "building tree 75 of 100\n",
      "building tree 76 of 100\n",
      "building tree 77 of 100\n",
      "building tree 78 of 100\n",
      "building tree 79 of 100\n",
      "building tree 80 of 100\n",
      "building tree 81 of 100\n",
      "building tree 82 of 100\n",
      "building tree 83 of 100\n",
      "building tree 84 of 100\n",
      "building tree 85 of 100\n",
      "building tree 86 of 100\n",
      "building tree 87 of 100\n",
      "building tree 88 of 100\n",
      "building tree 89 of 100\n",
      "building tree 90 of 100\n",
      "building tree 91 of 100\n",
      "building tree 92 of 100\n",
      "building tree 93 of 100\n",
      "building tree 94 of 100\n",
      "building tree 95 of 100\n",
      "building tree 96 of 100\n",
      "building tree 97 of 100\n",
      "building tree 98 of 100\n",
      "building tree 99 of 100\n",
      "building tree 100 of 100\n"
     ]
    },
    {
     "name": "stderr",
     "output_type": "stream",
     "text": [
      "[Parallel(n_jobs=11)]: Done 100 out of 100 | elapsed:   22.1s finished\n",
      "[Parallel(n_jobs=11)]: Using backend ThreadingBackend with 11 concurrent workers.\n",
      "[Parallel(n_jobs=11)]: Done  19 tasks      | elapsed:    0.0s\n"
     ]
    },
    {
     "name": "stdout",
     "output_type": "stream",
     "text": [
      "Training complete.\n",
      "\n",
      "--- Test Bowling Model Evaluation ---\n",
      "Overall Accuracy: 73.19%\n",
      "\n",
      "Classification Report:\n",
      "              precision    recall  f1-score   support\n",
      "\n",
      "         0-2       0.78      0.93      0.85      8706\n",
      "         3-4       0.24      0.09      0.13      2057\n",
      "          5+       0.16      0.04      0.06       606\n",
      "\n",
      "    accuracy                           0.73     11369\n",
      "   macro avg       0.39      0.35      0.35     11369\n",
      "weighted avg       0.65      0.73      0.68     11369\n",
      "\n"
     ]
    },
    {
     "name": "stderr",
     "output_type": "stream",
     "text": [
      "[Parallel(n_jobs=11)]: Done 100 out of 100 | elapsed:    0.1s finished\n"
     ]
    }
   ],
   "source": [
    "X_train_b, X_test_b, y_train_b, y_test_b = train_test_split(X_bowling, y_bowling, test_size=0.2, random_state=42, stratify=y_bowling)\n",
    "\n",
    "n_jobs = max(1, os.cpu_count() - 1)\n",
    "bowling_classifier = RandomForestClassifier(\n",
    "    n_estimators=100, \n",
    "    random_state=42, \n",
    "    n_jobs=n_jobs, \n",
    "    verbose=2,\n",
    "    class_weight='balanced'\n",
    ")\n",
    "\n",
    "print(f\"\\nTraining the {MATCH_FORMAT_TO_TRAIN} bowling classifier...\")\n",
    "bowling_classifier.fit(X_train_b, y_train_b)\n",
    "print(\"Training complete.\")\n",
    "\n",
    "predictions_b = bowling_classifier.predict(X_test_b)\n",
    "accuracy_b = accuracy_score(y_test_b, predictions_b)\n",
    "\n",
    "print(f\"\\n--- {MATCH_FORMAT_TO_TRAIN} Bowling Model Evaluation ---\")\n",
    "print(f\"Overall Accuracy: {accuracy_b * 100:.2f}%\")\n",
    "print(\"\\nClassification Report:\")\n",
    "print(classification_report(y_test_b, predictions_b, zero_division=0))"
   ]
  },
  {
   "cell_type": "markdown",
   "id": "7362e902",
   "metadata": {},
   "source": [
    "### Step 10: Save the Trained Bowling Classifier"
   ]
  },
  {
   "cell_type": "code",
   "execution_count": 10,
   "id": "468f59cf",
   "metadata": {},
   "outputs": [
    {
     "name": "stdout",
     "output_type": "stream",
     "text": [
      "Test bowling classifier and columns saved successfully.\n"
     ]
    }
   ],
   "source": [
    "model_filename_bowling = f'../models/{MATCH_FORMAT_TO_TRAIN.lower()}_bowling_classifier.joblib'\n",
    "columns_filename_bowling = f'../models/{MATCH_FORMAT_TO_TRAIN.lower()}_bowling_columns.joblib'\n",
    "\n",
    "joblib.dump(bowling_classifier, model_filename_bowling)\n",
    "joblib.dump(X_bowling.columns, columns_filename_bowling)\n",
    "\n",
    "print(f\"{MATCH_FORMAT_TO_TRAIN} bowling classifier and columns saved successfully.\")"
   ]
  },
  {
   "cell_type": "code",
   "execution_count": null,
   "id": "617f7f18-ef58-4b94-80e5-fbe628993914",
   "metadata": {},
   "outputs": [],
   "source": []
  }
 ],
 "metadata": {
  "kernelspec": {
   "display_name": "Python 3 (ipykernel)",
   "language": "python",
   "name": "python3"
  },
  "language_info": {
   "codemirror_mode": {
    "name": "ipython",
    "version": 3
   },
   "file_extension": ".py",
   "mimetype": "text/x-python",
   "name": "python",
   "nbconvert_exporter": "python",
   "pygments_lexer": "ipython3",
   "version": "3.11.8"
  }
 },
 "nbformat": 4,
 "nbformat_minor": 5
}
