{
 "cells": [
  {
   "cell_type": "markdown",
   "metadata": {},
   "source": [
    "# Player Performance Predictor - Phase 3: Format-Specific Model Training\n",
    "\n",
    "**Goal:** Train specialist models for each cricket format (T20, ODI, Test) using our new, enriched database. This notebook is designed to be run multiple times, once for each format."
   ]
  },
  {
   "cell_type": "markdown",
   "metadata": {},
   "source": [
    "### Step 1: Configuration - CHOOSE THE FORMAT TO TRAIN\n",
    "\n",
    "**Action:** Change the value of the `MATCH_FORMAT_TO_TRAIN` variable below to either 'T20', 'ODI', or 'Test'. Then, run the entire notebook (`Kernel > Restart & Run All`)."
   ]
  },
  {
   "cell_type": "code",
   "execution_count": null,
   "metadata": {},
   "outputs": [],
   "source": [
    "MATCH_FORMAT_TO_TRAIN = \"T20\" # <-- CHANGE THIS VALUE (e.g., \"ODI\" or \"Test\")\n",
    "\n",
    "print(f\"Configuration set to train models for: {MATCH_FORMAT_TO_TRAIN}\")"
   ]
  },
  {
   "cell_type": "markdown",
   "metadata": {},
   "source": [
    "### Step 2: Load Data & Filter by Format"
   ]
  },
  {
   "cell_type": "code",
   "execution_count": null,
   "metadata": {},
   "outputs": [],
   "source": [
    "import pandas as pd\n",
    "import sqlite3\n",
    "import joblib\n",
    "import os\n",
    "import seaborn as sns\n",
    "from sklearn.model_selection import train_test_split\n",
    "from sklearn.ensemble import RandomForestRegressor\n",
    "from sklearn.metrics import mean_absolute_error, r2_score\n",
    "\n",
    "sns.set_style('whitegrid')\n",
    "db_path = '../cricket_data.db'\n",
    "conn = sqlite3.connect(db_path)\n",
    "batting_df_full = pd.read_sql_query(\"SELECT * FROM batting_innings\", conn)\n",
    "bowling_df_full = pd.read_sql_query(\"SELECT * FROM bowling_innings\", conn)\n",
    "conn.close()\n",
    "\n",
    "# --- CRUCIAL STEP: Filter data for the chosen format --- #\n",
    "batting_df = batting_df_full[batting_df_full['match_type'] == MATCH_FORMAT_TO_TRAIN].copy()\n",
    "bowling_df = bowling_df_full[bowling_df_full['match_type'] == MATCH_FORMAT_TO_TRAIN].copy()\n",
    "\n",
    "batting_df['date'] = pd.to_datetime(batting_df['date'])\n",
    "bowling_df['date'] = pd.to_datetime(bowling_df['date'])\n",
    "\n",
    "print(f\"Data loaded. Found {len(batting_df)} batting and {len(bowling_df)} bowling innings for {MATCH_FORMAT_TO_TRAIN}.\")"
   ]
  },
  {
   "cell_type": "markdown",
   "metadata": {},
   "source": [
    "## Part A: Training the Batting Prediction Model"
   ]
  },
  {
   "cell_type": "markdown",
   "metadata": {},
   "source": [
    "### Step 3: Filter for Consistently Active Batters in this Format"
   ]
  },
  {
   "cell_type": "code",
   "execution_count": null,
   "metadata": {},
   "outputs": [],
   "source": [
    "# Define the cutoff date (3 years ago from today)\n",
    "cutoff_date = pd.Timestamp.now() - pd.DateOffset(years=3)\n",
    "\n",
    "# Create a dataframe of recent innings for this format\n",
    "recent_batting_df = batting_df[batting_df['date'] >= cutoff_date]\n",
    "\n",
    "# Count player appearances in the recent period for this format\n",
    "n_min_recent_appearances = 10\n",
    "recent_player_counts = recent_batting_df['player'].value_counts()\n",
    "\n",
    "# Get the list of players who meet the threshold\n",
    "final_batters_list = recent_player_counts[recent_player_counts >= n_min_recent_appearances].index\n",
    "print(f\"Found {len(final_batters_list)} batters who have played at least {n_min_recent_appearances} {MATCH_FORMAT_TO_TRAIN} matches in the last 3 years.\")\n",
    "\n",
    "# Filter the main format dataframe to include the ENTIRE CAREER (in this format) of these players\n",
    "batting_df_filtered = batting_df[batting_df['player'].isin(final_batters_list)].copy()\n",
    "print(f\"The final filtered dataset contains {len(batting_df_filtered)} total {MATCH_FORMAT_TO_TRAIN} innings from these players.\")"
   ]
  },
  {
   "cell_type": "markdown",
   "metadata": {},
   "source": [
    "### Step 4: Feature Engineering on Filtered Batting Data"
   ]
  },
  {
   "cell_type": "code",
   "execution_count": null,
   "metadata": {},
   "outputs": [],
   "source": [
    "print(\"Creating features for the filtered batting data...\")\n",
    "match_teams = batting_df_full.groupby('match_id')['team'].unique().apply(list).to_dict()\n",
    "def find_opposition(row):\n",
    "    teams_in_match = match_teams.get(row['match_id'])\n",
    "    if teams_in_match and len(teams_in_match) == 2:\n",
    "        return teams_in_match[1] if teams_in_match[0] == row['team'] else teams_in_match[0]\n",
    "    return 'N/A'\n",
    "\n",
    "batting_df_filtered.loc[:, 'against_team'] = batting_df_filtered.apply(find_opposition, axis=1)\n",
    "batting_df_filtered = batting_df_filtered.sort_values(by=['player', 'date'])\n",
    "batting_df_filtered.loc[:, 'form_last_5_innings'] = batting_df_filtered.groupby('player')['runs'].transform(lambda x: x.rolling(window=5, min_periods=1).mean().shift(1))\n",
    "batting_df_filtered['form_last_5_innings'] = batting_df_filtered['form_last_5_innings'].fillna(0)\n",
    "print(\"Feature engineering complete.\")"
   ]
  },
  {
   "cell_type": "markdown",
   "metadata": {},
   "source": [
    "### Step 5: Prepare Batting Data for Modeling"
   ]
  },
  {
   "cell_type": "code",
   "execution_count": null,
   "metadata": {},
   "outputs": [],
   "source": [
    "categorical_features = ['player', 'venue', 'against_team']\n",
    "numerical_features = ['form_last_5_innings']\n",
    "target_batting = 'runs'\n",
    "\n",
    "encoded_features = pd.get_dummies(batting_df_filtered[categorical_features], columns=categorical_features)\n",
    "X_batting = pd.concat([encoded_features, batting_df_filtered[numerical_features]], axis=1)\n",
    "y_batting = batting_df_filtered[target_batting]\n",
    "\n",
    "print(\"Batting data prepared.\")\n",
    "print(f\"Final shape of {MATCH_FORMAT_TO_TRAIN} batting feature matrix (X):\", X_batting.shape)"
   ]
  },
  {
   "cell_type": "markdown",
   "metadata": {},
   "source": [
    "### Step 6: Train the Batting Model"
   ]
  },
  {
   "cell_type": "code",
   "execution_count": null,
   "metadata": {},
   "outputs": [],
   "source": [
    "X_train, X_test, y_train, y_test = train_test_split(X_batting, y_batting, test_size=0.2, random_state=42)\n",
    "\n",
    "batting_model = RandomForestRegressor(n_estimators=100, random_state=42, n_jobs=-1, verbose=2)\n",
    "\n",
    "print(f\"Training the {MATCH_FORMAT_TO_TRAIN} batting model...\")\n",
    "batting_model.fit(X_train, y_train)\n",
    "print(\"Model training complete.\")\n",
    "\n",
    "predictions = batting_model.predict(X_test)\n",
    "mae = mean_absolute_error(y_test, predictions)\n",
    "r2 = r2_score(y_test, predictions)\n",
    "\n",
    "print(f\"\\n--- {MATCH_FORMAT_TO_TRAIN} Batting Model Evaluation ---\")\n",
    "print(f\"Mean Absolute Error (MAE): {mae:.2f}\")\n",
    "print(f\"R-squared (R2 Score): {r2:.2f}\")"
   ]
  },
  {
   "cell_type": "markdown",
   "metadata": {},
   "source": [
    "### Step 7: Save the Trained Batting Model"
   ]
  },
  {
   "cell_type": "code",
   "execution_count": null,
   "metadata": {},
   "outputs": [],
   "source": [
    "if not os.path.exists('../models'):\n",
    "    os.makedirs('../models')\n",
    "\n",
    "model_filename = f'../models/{MATCH_FORMAT_TO_TRAIN.lower()}_batting_model.joblib'\n",
    "columns_filename = f'../models/{MATCH_FORMAT_TO_TRAIN.lower()}_batting_columns.joblib'\n",
    "\n",
    "joblib.dump(batting_model, model_filename)\n",
    "joblib.dump(X_batting.columns, columns_filename)\n",
    "\n",
    "print(f\"{MATCH_FORMAT_TO_TRAIN} batting model and columns saved successfully.\")"
   ]
  },
  {
   "cell_type": "markdown",
   "metadata": {},
   "source": [
    "---"
   ]
  },
  {
   "cell_type": "markdown",
   "metadata": {},
   "source": [
    "## Part B: Training the Bowling Prediction Model"
   ]
  },
  {
   "cell_type": "markdown",
   "metadata": {},
   "source": [
    "### Step 8: Filter for Consistently Active Bowlers in this Format"
   ]
  },
  {
   "cell_type": "code",
   "execution_count": null,
   "metadata": {},
   "outputs": [],
   "source": [
    "# Create a dataframe of recent bowling innings only\n",
    "recent_bowling_df = bowling_df[bowling_df['date'] >= cutoff_date]\n",
    "\n",
    "# Count player appearances in the recent period for this format\n",
    "recent_player_counts_bowling = recent_bowling_df['player'].value_counts()\n",
    "\n",
    "# Get the list of players who meet the threshold\n",
    "final_bowlers_list = recent_player_counts_bowling[recent_player_counts_bowling >= n_min_recent_appearances].index\n",
    "print(f\"Found {len(final_bowlers_list)} bowlers who have played at least {n_min_recent_appearances} {MATCH_FORMAT_TO_TRAIN} matches in the last 3 years.\")\n",
    "\n",
    "# Filter the main format dataframe to include the ENTIRE CAREER (in this format) of these players\n",
    "bowling_df_filtered = bowling_df[bowling_df['player'].isin(final_bowlers_list)].copy()\n",
    "print(f\"The final filtered dataset contains {len(bowling_df_filtered)} total {MATCH_FORMAT_TO_TRAIN} innings from these players.\")"
   ]
  },
  {
   "cell_type": "markdown",
   "metadata": {},
   "source": [
    "### Step 9: Feature Engineering on Filtered Bowling Data"
   ]
  },
  {
   "cell_type": "code",
   "execution_count": null,
   "metadata": {},
   "outputs": [],
   "source": [
    "print(\"\\nCreating features for the filtered bowling data...\")\n",
    "bowling_df_filtered.loc[:, 'against_team'] = bowling_df_filtered.apply(find_opposition, axis=1)\n",
    "bowling_df_filtered = bowling_df_filtered.sort_values(by=['player', 'date'])\n",
    "bowling_df_filtered.loc[:, 'form_last_5_wickets'] = bowling_df_filtered.groupby('player')['wickets'].transform(lambda x: x.rolling(window=5, min_periods=1).mean().shift(1))\n",
    "bowling_df_filtered['form_last_5_wickets'] = bowling_df_filtered['form_last_5_wickets'].fillna(0)\n",
    "print(\"Feature engineering complete.\")"
   ]
  },
  {
   "cell_type": "markdown",
   "metadata": {},
   "source": [
    "### Step 10: Prepare Bowling Data for Modeling"
   ]
  },
  {
   "cell_type": "code",
   "execution_count": null,
   "metadata": {},
   "outputs": [],
   "source": [
    "categorical_features = ['player', 'venue', 'against_team']\n",
    "numerical_features = ['form_last_5_wickets']\n",
    "target_bowling = 'wickets'\n",
    "\n",
    "encoded_features_bowling = pd.get_dummies(bowling_df_filtered[categorical_features], columns=categorical_features)\n",
    "X_bowling = pd.concat([encoded_features_bowling, bowling_df_filtered[numerical_features]], axis=1)\n",
    "y_bowling = bowling_df_filtered[target_bowling]\n",
    "\n",
    "print(\"Bowling data prepared.\")\n",
    "print(f\"Final shape of {MATCH_FORMAT_TO_TRAIN} bowling feature matrix (X):\", X_bowling.shape)"
   ]
  },
  {
   "cell_type": "markdown",
   "metadata": {},
   "source": [
    "### Step 11: Train the Bowling Model"
   ]
  },
  {
   "cell_type": "code",
   "execution_count": null,
   "metadata": {},
   "outputs": [],
   "source": [
    "X_train, X_test, y_train, y_test = train_test_split(X_bowling, y_bowling, test_size=0.2, random_state=42)\n",
    "\n",
    "bowling_model = RandomForestRegressor(n_estimators=100, random_state=42, n_jobs=-1, verbose=2)\n",
    "\n",
    "print(f\"Training the {MATCH_FORMAT_TO_TRAIN} bowling model...\")\n",
    "bowling_model.fit(X_train, y_train)\n",
    "print(\"Model training complete.\")\n",
    "\n",
    "predictions = bowling_model.predict(X_test)\n",
    "mae = mean_absolute_error(y_test, predictions)\n",
    "r2 = r2_score(y_test, predictions)\n",
    "\n",
    "print(f\"\\n--- {MATCH_FORMAT_TO_TRAIN} Bowling Model Evaluation ---\")\n",
    "print(f\"Mean Absolute Error (MAE): {mae:.2f}\")\n",
    "print(f\"R-squared (R2 Score): {r2:.2f}\")"
   ]
  },
  {
   "cell_type": "markdown",
   "metadata": {},
   "source": [
    "### Step 12: Save the Trained Bowling Model"
   ]
  },
  {
   "cell_type": "code",
   "execution_count": null,
   "metadata": {},
   "outputs": [],
   "source": [
    "model_filename_bowling = f'../models/{MATCH_FORMAT_TO_TRAIN.lower()}_bowling_model.joblib'\n",
    "columns_filename_bowling = f'../models/{MATCH_FORMAT_TO_TRAIN.lower()}_bowling_columns.joblib'\n",
    "\n",
    "joblib.dump(bowling_model, model_filename_bowling)\n",
    "joblib.dump(X_bowling.columns, columns_filename_bowling)\n",
    "\n",
    "print(f\"{MATCH_FORMAT_TO_TRAIN} bowling model and columns saved successfully.\")"
   ]
  }
 ],
 "metadata": {
  "kernelspec": {
   "display_name": "Python 3 (ipykernel)",
   "language": "python",
   "name": "python3"
  },
  "language_info": {
   "codemirror_mode": {
    "name": "ipython",
    "version": 3
   },
   "file_extension": ".py",
   "mimetype": "text/x-python",
   "name": "python",
   "nbconvert_exporter": "python",
   "pygments_lexer": "ipython3",
   "version": "3.11.7"
  }
 },
 "nbformat": 4,
 "nbformat_minor": 5
}
