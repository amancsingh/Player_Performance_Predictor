{
 "cells": [
  {
   "cell_type": "markdown",
   "metadata": {},
   "source": [
    "# Player Performance Predictor - Phase 1: Data Analysis\n",
    "\n",
    "**Goal:** In this notebook, we will connect to our newly created SQLite database, perform exploratory data analysis (EDA) to understand the data, and begin engineering features for our predictive models."
   ]
  },
  {
   "cell_type": "markdown",
   "metadata": {},
   "source": [
    "### Step 1: Import Libraries & Connect to the Database"
   ]
  },
  {
   "cell_type": "code",
   "execution_count": 1,
   "metadata": {},
   "outputs": [
    {
     "name": "stdout",
     "output_type": "stream",
     "text": [
      "Connection to database successful!\n"
     ]
    }
   ],
   "source": [
    "import pandas as pd\n",
    "import sqlite3\n",
    "import matplotlib.pyplot as plt\n",
    "import seaborn as sns\n",
    "\n",
    "# Set plot style for better visuals\n",
    "sns.set_style('whitegrid')\n",
    "\n",
    "# Create a connection to our database file\n",
    "# The '..' means go up one directory from the current folder ('notebooks') to the main project folder.\n",
    "db_path = '../cricket_data.db'\n",
    "conn = sqlite3.connect(db_path)\n",
    "\n",
    "print(\"Connection to database successful!\")"
   ]
  },
  {
   "cell_type": "markdown",
   "metadata": {},
   "source": [
    "### Step 2: Load Data into Pandas DataFrames\n",
    "\n",
    "A DataFrame is a powerful, table-like structure provided by the pandas library. It's the standard way to work with data in Python."
   ]
  },
  {
   "cell_type": "code",
   "execution_count": 2,
   "metadata": {},
   "outputs": [
    {
     "name": "stdout",
     "output_type": "stream",
     "text": [
      "--- Batting Data ---\n"
     ]
    },
    {
     "data": {
      "text/html": [
       "<div>\n",
       "<style scoped>\n",
       "    .dataframe tbody tr th:only-of-type {\n",
       "        vertical-align: middle;\n",
       "    }\n",
       "\n",
       "    .dataframe tbody tr th {\n",
       "        vertical-align: top;\n",
       "    }\n",
       "\n",
       "    .dataframe thead th {\n",
       "        text-align: right;\n",
       "    }\n",
       "</style>\n",
       "<table border=\"1\" class=\"dataframe\">\n",
       "  <thead>\n",
       "    <tr style=\"text-align: right;\">\n",
       "      <th></th>\n",
       "      <th>match_id</th>\n",
       "      <th>inning</th>\n",
       "      <th>team</th>\n",
       "      <th>player</th>\n",
       "      <th>runs</th>\n",
       "      <th>balls_faced</th>\n",
       "      <th>dismissal_kind</th>\n",
       "      <th>venue</th>\n",
       "      <th>date</th>\n",
       "    </tr>\n",
       "  </thead>\n",
       "  <tbody>\n",
       "    <tr>\n",
       "      <th>0</th>\n",
       "      <td>1000853</td>\n",
       "      <td>1</td>\n",
       "      <td>Australia</td>\n",
       "      <td>DA Warner</td>\n",
       "      <td>1</td>\n",
       "      <td>4</td>\n",
       "      <td>caught</td>\n",
       "      <td>Bellerive Oval</td>\n",
       "      <td>2016-11-12</td>\n",
       "    </tr>\n",
       "    <tr>\n",
       "      <th>1</th>\n",
       "      <td>1000853</td>\n",
       "      <td>1</td>\n",
       "      <td>Australia</td>\n",
       "      <td>JA Burns</td>\n",
       "      <td>1</td>\n",
       "      <td>8</td>\n",
       "      <td>lbw</td>\n",
       "      <td>Bellerive Oval</td>\n",
       "      <td>2016-11-12</td>\n",
       "    </tr>\n",
       "    <tr>\n",
       "      <th>2</th>\n",
       "      <td>1000853</td>\n",
       "      <td>1</td>\n",
       "      <td>Australia</td>\n",
       "      <td>UT Khawaja</td>\n",
       "      <td>4</td>\n",
       "      <td>25</td>\n",
       "      <td>caught</td>\n",
       "      <td>Bellerive Oval</td>\n",
       "      <td>2016-11-12</td>\n",
       "    </tr>\n",
       "    <tr>\n",
       "      <th>3</th>\n",
       "      <td>1000853</td>\n",
       "      <td>1</td>\n",
       "      <td>Australia</td>\n",
       "      <td>SPD Smith</td>\n",
       "      <td>48</td>\n",
       "      <td>80</td>\n",
       "      <td>not out</td>\n",
       "      <td>Bellerive Oval</td>\n",
       "      <td>2016-11-12</td>\n",
       "    </tr>\n",
       "    <tr>\n",
       "      <th>4</th>\n",
       "      <td>1000853</td>\n",
       "      <td>1</td>\n",
       "      <td>Australia</td>\n",
       "      <td>AC Voges</td>\n",
       "      <td>0</td>\n",
       "      <td>1</td>\n",
       "      <td>caught</td>\n",
       "      <td>Bellerive Oval</td>\n",
       "      <td>2016-11-12</td>\n",
       "    </tr>\n",
       "  </tbody>\n",
       "</table>\n",
       "</div>"
      ],
      "text/plain": [
       "  match_id  inning       team      player  runs  balls_faced dismissal_kind  \\\n",
       "0  1000853       1  Australia   DA Warner     1            4         caught   \n",
       "1  1000853       1  Australia    JA Burns     1            8            lbw   \n",
       "2  1000853       1  Australia  UT Khawaja     4           25         caught   \n",
       "3  1000853       1  Australia   SPD Smith    48           80        not out   \n",
       "4  1000853       1  Australia    AC Voges     0            1         caught   \n",
       "\n",
       "            venue        date  \n",
       "0  Bellerive Oval  2016-11-12  \n",
       "1  Bellerive Oval  2016-11-12  \n",
       "2  Bellerive Oval  2016-11-12  \n",
       "3  Bellerive Oval  2016-11-12  \n",
       "4  Bellerive Oval  2016-11-12  "
      ]
     },
     "metadata": {},
     "output_type": "display_data"
    },
    {
     "name": "stdout",
     "output_type": "stream",
     "text": [
      "\n",
      "--- Bowling Data ---\n"
     ]
    },
    {
     "data": {
      "text/html": [
       "<div>\n",
       "<style scoped>\n",
       "    .dataframe tbody tr th:only-of-type {\n",
       "        vertical-align: middle;\n",
       "    }\n",
       "\n",
       "    .dataframe tbody tr th {\n",
       "        vertical-align: top;\n",
       "    }\n",
       "\n",
       "    .dataframe thead th {\n",
       "        text-align: right;\n",
       "    }\n",
       "</style>\n",
       "<table border=\"1\" class=\"dataframe\">\n",
       "  <thead>\n",
       "    <tr style=\"text-align: right;\">\n",
       "      <th></th>\n",
       "      <th>match_id</th>\n",
       "      <th>inning</th>\n",
       "      <th>team</th>\n",
       "      <th>player</th>\n",
       "      <th>overs</th>\n",
       "      <th>runs_conceded</th>\n",
       "      <th>wickets</th>\n",
       "      <th>venue</th>\n",
       "      <th>date</th>\n",
       "    </tr>\n",
       "  </thead>\n",
       "  <tbody>\n",
       "    <tr>\n",
       "      <th>0</th>\n",
       "      <td>1000853</td>\n",
       "      <td>1</td>\n",
       "      <td>South Africa</td>\n",
       "      <td>VD Philander</td>\n",
       "      <td>10.17</td>\n",
       "      <td>21</td>\n",
       "      <td>5</td>\n",
       "      <td>Bellerive Oval</td>\n",
       "      <td>2016-11-12</td>\n",
       "    </tr>\n",
       "    <tr>\n",
       "      <th>1</th>\n",
       "      <td>1000853</td>\n",
       "      <td>1</td>\n",
       "      <td>South Africa</td>\n",
       "      <td>KA Maharaj</td>\n",
       "      <td>4.00</td>\n",
       "      <td>2</td>\n",
       "      <td>0</td>\n",
       "      <td>Bellerive Oval</td>\n",
       "      <td>2016-11-12</td>\n",
       "    </tr>\n",
       "    <tr>\n",
       "      <th>2</th>\n",
       "      <td>1000853</td>\n",
       "      <td>1</td>\n",
       "      <td>South Africa</td>\n",
       "      <td>KJ Abbott</td>\n",
       "      <td>12.67</td>\n",
       "      <td>41</td>\n",
       "      <td>3</td>\n",
       "      <td>Bellerive Oval</td>\n",
       "      <td>2016-11-12</td>\n",
       "    </tr>\n",
       "    <tr>\n",
       "      <th>3</th>\n",
       "      <td>1000853</td>\n",
       "      <td>1</td>\n",
       "      <td>South Africa</td>\n",
       "      <td>K Rabada</td>\n",
       "      <td>6.00</td>\n",
       "      <td>21</td>\n",
       "      <td>1</td>\n",
       "      <td>Bellerive Oval</td>\n",
       "      <td>2016-11-12</td>\n",
       "    </tr>\n",
       "    <tr>\n",
       "      <th>4</th>\n",
       "      <td>1000853</td>\n",
       "      <td>2</td>\n",
       "      <td>Australia</td>\n",
       "      <td>SPD Smith</td>\n",
       "      <td>1.00</td>\n",
       "      <td>5</td>\n",
       "      <td>0</td>\n",
       "      <td>Bellerive Oval</td>\n",
       "      <td>2016-11-12</td>\n",
       "    </tr>\n",
       "  </tbody>\n",
       "</table>\n",
       "</div>"
      ],
      "text/plain": [
       "  match_id  inning          team        player  overs  runs_conceded  wickets  \\\n",
       "0  1000853       1  South Africa  VD Philander  10.17             21        5   \n",
       "1  1000853       1  South Africa    KA Maharaj   4.00              2        0   \n",
       "2  1000853       1  South Africa     KJ Abbott  12.67             41        3   \n",
       "3  1000853       1  South Africa      K Rabada   6.00             21        1   \n",
       "4  1000853       2     Australia     SPD Smith   1.00              5        0   \n",
       "\n",
       "            venue        date  \n",
       "0  Bellerive Oval  2016-11-12  \n",
       "1  Bellerive Oval  2016-11-12  \n",
       "2  Bellerive Oval  2016-11-12  \n",
       "3  Bellerive Oval  2016-11-12  \n",
       "4  Bellerive Oval  2016-11-12  "
      ]
     },
     "metadata": {},
     "output_type": "display_data"
    }
   ],
   "source": [
    "# Load the batting and bowling tables into separate DataFrames\n",
    "batting_df = pd.read_sql_query(\"SELECT * FROM batting_innings\", conn)\n",
    "bowling_df = pd.read_sql_query(\"SELECT * FROM bowling_innings\", conn)\n",
    "\n",
    "# Display the first 5 rows of each DataFrame to verify they loaded correctly\n",
    "print(\"--- Batting Data ---\")\n",
    "display(batting_df.head())\n",
    "\n",
    "print(\"\\n--- Bowling Data ---\")\n",
    "display(bowling_df.head())"
   ]
  },
  {
   "cell_type": "markdown",
   "metadata": {},
   "source": [
    "### Step 3: Basic Data Exploration\n",
    "\n",
    "Let's get a feel for our dataset. How many matches? How many innings records?"
   ]
  },
  {
   "cell_type": "code",
   "execution_count": 3,
   "metadata": {},
   "outputs": [
    {
     "name": "stdout",
     "output_type": "stream",
     "text": [
      "Total batting innings records: 379041\n",
      "Total bowling innings records: 263305\n",
      "Number of unique matches in dataset: 20073\n",
      "Number of unique players in dataset: 12213\n"
     ]
    }
   ],
   "source": [
    "print(f\"Total batting innings records: {len(batting_df)}\")\n",
    "print(f\"Total bowling innings records: {len(bowling_df)}\")\n",
    "print(f\"Number of unique matches in dataset: {batting_df['match_id'].nunique()}\")\n",
    "print(f\"Number of unique players in dataset: {pd.concat([batting_df['player'], bowling_df['player']]).nunique()}\")"
   ]
  },
  {
   "cell_type": "markdown",
   "metadata": {},
   "source": [
    "### Step 4: First Analysis - Top 10 Run Scorers\n",
    "\n",
    "Let's find the players with the most runs in the entire dataset."
   ]
  },
  {
   "cell_type": "code",
   "execution_count": 4,
   "metadata": {},
   "outputs": [
    {
     "name": "stderr",
     "output_type": "stream",
     "text": [
      "C:\\Users\\Aman\\AppData\\Local\\Temp\\ipykernel_64632\\1648770832.py:5: FutureWarning: \n",
      "\n",
      "Passing `palette` without assigning `hue` is deprecated and will be removed in v0.14.0. Assign the `x` variable to `hue` and set `legend=False` for the same effect.\n",
      "\n",
      "  sns.barplot(x=top_scorers.index, y=top_scorers.values, palette='viridis')\n"
     ]
    },
    {
     "data": {
      "image/png": "[encoded data removed]",
      "text/plain": [
       "<Figure size 1200x700 with 1 Axes>"
      ]
     },
     "metadata": {},
     "output_type": "display_data"
    }
   ],
   "source": [
    "# Group by player and sum their runs, then get the top 10\n",
    "top_scorers = batting_df.groupby('player')['runs'].sum().sort_values(ascending=False).head(10)\n",
    "\n",
    "plt.figure(figsize=(12, 7))\n",
    "sns.barplot(x=top_scorers.index, y=top_scorers.values, palette='viridis')\n",
    "plt.title('Top 10 Run Scorers in the Dataset', fontsize=16)\n",
    "plt.xlabel('Player', fontsize=12)\n",
    "plt.ylabel('Total Runs', fontsize=12)\n",
    "plt.xticks(rotation=45)\n",
    "plt.show()"
   ]
  },
  {
   "cell_type": "markdown",
   "metadata": {},
   "source": [
    "### Step 5: Check Table Columns\n",
    "\n",
    "Let's programmatically check the exact column names in our DataFrames."
   ]
  },
  {
   "cell_type": "code",
   "execution_count": 5,
   "metadata": {},
   "outputs": [
    {
     "name": "stdout",
     "output_type": "stream",
     "text": [
      "--- Batting Innings Columns ---\n",
      "['match_id', 'inning', 'team', 'player', 'runs', 'balls_faced', 'dismissal_kind', 'venue', 'date']\n",
      "\n",
      "--- Bowling Innings Columns ---\n",
      "['match_id', 'inning', 'team', 'player', 'overs', 'runs_conceded', 'wickets', 'venue', 'date']\n"
     ]
    }
   ],
   "source": [
    "print(\"--- Batting Innings Columns ---\")\n",
    "print(batting_df.columns.tolist())\n",
    "\n",
    "print(\"\\n--- Bowling Innings Columns ---\")\n",
    "print(bowling_df.columns.tolist())"
   ]
  },
  {
   "cell_type": "markdown",
   "metadata": {},
   "source": [
    "### Step 6: Feature Engineering - Creating Richer Columns\n",
    "\n",
    "The raw data is good, but we can derive more powerful features from it. This process is called **Feature Engineering**."
   ]
  },
  {
   "cell_type": "code",
   "execution_count": 6,
   "metadata": {},
   "outputs": [
    {
     "name": "stdout",
     "output_type": "stream",
     "text": [
      "'against_team' column added successfully.\n"
     ]
    }
   ],
   "source": [
    "# --- Create 'against_team' column --- #\n",
    "# Create a helper mapping of which teams played in each match\n",
    "match_teams = batting_df.groupby('match_id')['team'].unique().apply(list).to_dict()\n",
    "\n",
    "# Function to find the opposition team\n",
    "def find_opposition(row):\n",
    "    teams_in_match = match_teams.get(row['match_id'])\n",
    "    if teams_in_match and len(teams_in_match) == 2:\n",
    "        return teams_in_match[1] if teams_in_match[0] == row['team'] else teams_in_match[0]\n",
    "    return 'N/A'\n",
    "\n",
    "# Apply the function to create the new column for both dataframes\n",
    "batting_df['against_team'] = batting_df.apply(find_opposition, axis=1)\n",
    "bowling_df['against_team'] = bowling_df.apply(find_opposition, axis=1)\n",
    "\n",
    "print(\"'against_team' column added successfully.\")"
   ]
  },
  {
   "cell_type": "code",
   "execution_count": 9,
   "metadata": {},
   "outputs": [
    {
     "name": "stdout",
     "output_type": "stream",
     "text": [
      "Batting milestone columns ('is_50', 'is_100') have been corrected and added.\n",
      "Bowling milestone column ('is_5w') added.\n"
     ]
    }
   ],
   "source": [
    "# --- Create Batting Milestone Columns (Corrected Logic) --- #\n",
    "# A 50 is a score between 50 and 99.\n",
    "batting_df['is_50'] = ((batting_df['runs'] >= 50) & (batting_df['runs'] < 100)).astype(int)\n",
    "\n",
    "# A 100 is a score of 100 or more.\n",
    "batting_df['is_100'] = (batting_df['runs'] >= 100).astype(int)\n",
    "\n",
    "print(\"Batting milestone columns ('is_50', 'is_100') have been corrected and added.\")\n",
    "\n",
    "# --- Create Bowling Milestone Columns --- #\n",
    "bowling_df['is_5w'] = (bowling_df['wickets'] >= 5).astype(int)\n",
    "\n",
    "print(\"Bowling milestone column ('is_5w') added.\")"
   ]
  },
  {
   "cell_type": "markdown",
   "metadata": {},
   "source": [
    "### Step 7: Verify the New Features\n",
    "\n",
    "Let's look at the dataframes again to see our new columns in action."
   ]
  },
  {
   "cell_type": "code",
   "execution_count": 10,
   "metadata": {},
   "outputs": [
    {
     "name": "stdout",
     "output_type": "stream",
     "text": [
      "--- Batting Data with New Features ---\n"
     ]
    },
    {
     "data": {
      "text/html": [
       "<div>\n",
       "<style scoped>\n",
       "    .dataframe tbody tr th:only-of-type {\n",
       "        vertical-align: middle;\n",
       "    }\n",
       "\n",
       "    .dataframe tbody tr th {\n",
       "        vertical-align: top;\n",
       "    }\n",
       "\n",
       "    .dataframe thead th {\n",
       "        text-align: right;\n",
       "    }\n",
       "</style>\n",
       "<table border=\"1\" class=\"dataframe\">\n",
       "  <thead>\n",
       "    <tr style=\"text-align: right;\">\n",
       "      <th></th>\n",
       "      <th>player</th>\n",
       "      <th>runs</th>\n",
       "      <th>against_team</th>\n",
       "      <th>is_50</th>\n",
       "      <th>is_100</th>\n",
       "    </tr>\n",
       "  </thead>\n",
       "  <tbody>\n",
       "    <tr>\n",
       "      <th>0</th>\n",
       "      <td>DA Warner</td>\n",
       "      <td>1</td>\n",
       "      <td>South Africa</td>\n",
       "      <td>0</td>\n",
       "      <td>0</td>\n",
       "    </tr>\n",
       "    <tr>\n",
       "      <th>1</th>\n",
       "      <td>JA Burns</td>\n",
       "      <td>1</td>\n",
       "      <td>South Africa</td>\n",
       "      <td>0</td>\n",
       "      <td>0</td>\n",
       "    </tr>\n",
       "    <tr>\n",
       "      <th>2</th>\n",
       "      <td>UT Khawaja</td>\n",
       "      <td>4</td>\n",
       "      <td>South Africa</td>\n",
       "      <td>0</td>\n",
       "      <td>0</td>\n",
       "    </tr>\n",
       "    <tr>\n",
       "      <th>3</th>\n",
       "      <td>SPD Smith</td>\n",
       "      <td>48</td>\n",
       "      <td>South Africa</td>\n",
       "      <td>0</td>\n",
       "      <td>0</td>\n",
       "    </tr>\n",
       "    <tr>\n",
       "      <th>4</th>\n",
       "      <td>AC Voges</td>\n",
       "      <td>0</td>\n",
       "      <td>South Africa</td>\n",
       "      <td>0</td>\n",
       "      <td>0</td>\n",
       "    </tr>\n",
       "  </tbody>\n",
       "</table>\n",
       "</div>"
      ],
      "text/plain": [
       "       player  runs  against_team  is_50  is_100\n",
       "0   DA Warner     1  South Africa      0       0\n",
       "1    JA Burns     1  South Africa      0       0\n",
       "2  UT Khawaja     4  South Africa      0       0\n",
       "3   SPD Smith    48  South Africa      0       0\n",
       "4    AC Voges     0  South Africa      0       0"
      ]
     },
     "metadata": {},
     "output_type": "display_data"
    },
    {
     "name": "stdout",
     "output_type": "stream",
     "text": [
      "\n",
      "--- Bowling Data with New Features ---\n"
     ]
    },
    {
     "data": {
      "text/html": [
       "<div>\n",
       "<style scoped>\n",
       "    .dataframe tbody tr th:only-of-type {\n",
       "        vertical-align: middle;\n",
       "    }\n",
       "\n",
       "    .dataframe tbody tr th {\n",
       "        vertical-align: top;\n",
       "    }\n",
       "\n",
       "    .dataframe thead th {\n",
       "        text-align: right;\n",
       "    }\n",
       "</style>\n",
       "<table border=\"1\" class=\"dataframe\">\n",
       "  <thead>\n",
       "    <tr style=\"text-align: right;\">\n",
       "      <th></th>\n",
       "      <th>player</th>\n",
       "      <th>wickets</th>\n",
       "      <th>against_team</th>\n",
       "      <th>is_5w</th>\n",
       "    </tr>\n",
       "  </thead>\n",
       "  <tbody>\n",
       "    <tr>\n",
       "      <th>0</th>\n",
       "      <td>VD Philander</td>\n",
       "      <td>5</td>\n",
       "      <td>Australia</td>\n",
       "      <td>1</td>\n",
       "    </tr>\n",
       "    <tr>\n",
       "      <th>1</th>\n",
       "      <td>KA Maharaj</td>\n",
       "      <td>0</td>\n",
       "      <td>Australia</td>\n",
       "      <td>0</td>\n",
       "    </tr>\n",
       "    <tr>\n",
       "      <th>2</th>\n",
       "      <td>KJ Abbott</td>\n",
       "      <td>3</td>\n",
       "      <td>Australia</td>\n",
       "      <td>0</td>\n",
       "    </tr>\n",
       "    <tr>\n",
       "      <th>3</th>\n",
       "      <td>K Rabada</td>\n",
       "      <td>1</td>\n",
       "      <td>Australia</td>\n",
       "      <td>0</td>\n",
       "    </tr>\n",
       "    <tr>\n",
       "      <th>4</th>\n",
       "      <td>SPD Smith</td>\n",
       "      <td>0</td>\n",
       "      <td>South Africa</td>\n",
       "      <td>0</td>\n",
       "    </tr>\n",
       "  </tbody>\n",
       "</table>\n",
       "</div>"
      ],
      "text/plain": [
       "         player  wickets  against_team  is_5w\n",
       "0  VD Philander        5     Australia      1\n",
       "1    KA Maharaj        0     Australia      0\n",
       "2     KJ Abbott        3     Australia      0\n",
       "3      K Rabada        1     Australia      0\n",
       "4     SPD Smith        0  South Africa      0"
      ]
     },
     "metadata": {},
     "output_type": "display_data"
    },
    {
     "name": "stdout",
     "output_type": "stream",
     "text": [
      "\n",
      "--- Example of a Century ---\n"
     ]
    },
    {
     "data": {
      "text/html": [
       "<div>\n",
       "<style scoped>\n",
       "    .dataframe tbody tr th:only-of-type {\n",
       "        vertical-align: middle;\n",
       "    }\n",
       "\n",
       "    .dataframe tbody tr th {\n",
       "        vertical-align: top;\n",
       "    }\n",
       "\n",
       "    .dataframe thead th {\n",
       "        text-align: right;\n",
       "    }\n",
       "</style>\n",
       "<table border=\"1\" class=\"dataframe\">\n",
       "  <thead>\n",
       "    <tr style=\"text-align: right;\">\n",
       "      <th></th>\n",
       "      <th>match_id</th>\n",
       "      <th>inning</th>\n",
       "      <th>team</th>\n",
       "      <th>player</th>\n",
       "      <th>runs</th>\n",
       "      <th>balls_faced</th>\n",
       "      <th>dismissal_kind</th>\n",
       "      <th>venue</th>\n",
       "      <th>date</th>\n",
       "      <th>against_team</th>\n",
       "      <th>is_50</th>\n",
       "      <th>is_100</th>\n",
       "    </tr>\n",
       "  </thead>\n",
       "  <tbody>\n",
       "    <tr>\n",
       "      <th>17</th>\n",
       "      <td>1000853</td>\n",
       "      <td>2</td>\n",
       "      <td>South Africa</td>\n",
       "      <td>Q de Kock</td>\n",
       "      <td>104</td>\n",
       "      <td>143</td>\n",
       "      <td>bowled</td>\n",
       "      <td>Bellerive Oval</td>\n",
       "      <td>2016-11-12</td>\n",
       "      <td>Australia</td>\n",
       "      <td>0</td>\n",
       "      <td>1</td>\n",
       "    </tr>\n",
       "    <tr>\n",
       "      <th>37</th>\n",
       "      <td>1000855</td>\n",
       "      <td>1</td>\n",
       "      <td>South Africa</td>\n",
       "      <td>F du Plessis</td>\n",
       "      <td>118</td>\n",
       "      <td>164</td>\n",
       "      <td>not out</td>\n",
       "      <td>Adelaide Oval</td>\n",
       "      <td>2016-11-24</td>\n",
       "      <td>Australia</td>\n",
       "      <td>0</td>\n",
       "      <td>1</td>\n",
       "    </tr>\n",
       "    <tr>\n",
       "      <th>44</th>\n",
       "      <td>1000855</td>\n",
       "      <td>2</td>\n",
       "      <td>Australia</td>\n",
       "      <td>UT Khawaja</td>\n",
       "      <td>145</td>\n",
       "      <td>308</td>\n",
       "      <td>lbw</td>\n",
       "      <td>Adelaide Oval</td>\n",
       "      <td>2016-11-24</td>\n",
       "      <td>South Africa</td>\n",
       "      <td>0</td>\n",
       "      <td>1</td>\n",
       "    </tr>\n",
       "    <tr>\n",
       "      <th>55</th>\n",
       "      <td>1000855</td>\n",
       "      <td>3</td>\n",
       "      <td>South Africa</td>\n",
       "      <td>SC Cook</td>\n",
       "      <td>104</td>\n",
       "      <td>240</td>\n",
       "      <td>bowled</td>\n",
       "      <td>Adelaide Oval</td>\n",
       "      <td>2016-11-24</td>\n",
       "      <td>Australia</td>\n",
       "      <td>0</td>\n",
       "      <td>1</td>\n",
       "    </tr>\n",
       "    <tr>\n",
       "      <th>94</th>\n",
       "      <td>1000851</td>\n",
       "      <td>3</td>\n",
       "      <td>South Africa</td>\n",
       "      <td>D Elgar</td>\n",
       "      <td>127</td>\n",
       "      <td>316</td>\n",
       "      <td>caught</td>\n",
       "      <td>Western Australia Cricket Association Ground</td>\n",
       "      <td>2016-11-03</td>\n",
       "      <td>Australia</td>\n",
       "      <td>0</td>\n",
       "      <td>1</td>\n",
       "    </tr>\n",
       "  </tbody>\n",
       "</table>\n",
       "</div>"
      ],
      "text/plain": [
       "   match_id  inning          team        player  runs  balls_faced  \\\n",
       "17  1000853       2  South Africa     Q de Kock   104          143   \n",
       "37  1000855       1  South Africa  F du Plessis   118          164   \n",
       "44  1000855       2     Australia    UT Khawaja   145          308   \n",
       "55  1000855       3  South Africa       SC Cook   104          240   \n",
       "94  1000851       3  South Africa       D Elgar   127          316   \n",
       "\n",
       "   dismissal_kind                                         venue        date  \\\n",
       "17         bowled                                Bellerive Oval  2016-11-12   \n",
       "37        not out                                 Adelaide Oval  2016-11-24   \n",
       "44            lbw                                 Adelaide Oval  2016-11-24   \n",
       "55         bowled                                 Adelaide Oval  2016-11-24   \n",
       "94         caught  Western Australia Cricket Association Ground  2016-11-03   \n",
       "\n",
       "    against_team  is_50  is_100  \n",
       "17     Australia      0       1  \n",
       "37     Australia      0       1  \n",
       "44  South Africa      0       1  \n",
       "55     Australia      0       1  \n",
       "94     Australia      0       1  "
      ]
     },
     "metadata": {},
     "output_type": "display_data"
    }
   ],
   "source": [
    "print(\"--- Batting Data with New Features ---\")\n",
    "# Displaying columns that show the new features\n",
    "display(batting_df[['player', 'runs', 'against_team', 'is_50', 'is_100']].head())\n",
    "\n",
    "print(\"\\n--- Bowling Data with New Features ---\")\n",
    "display(bowling_df[['player', 'wickets', 'against_team', 'is_5w']].head())\n",
    "\n",
    "# Let's check a player who actually scored a 100 to be sure it worked\n",
    "print(\"\\n--- Example of a Century ---\")\n",
    "display(batting_df[batting_df['is_100'] == 1].head())"
   ]
  },
  {
   "cell_type": "code",
   "execution_count": null,
   "metadata": {},
   "outputs": [],
   "source": []
  }
 ],
 "metadata": {
  "kernelspec": {
   "display_name": "Python 3 (ipykernel)",
   "language": "python",
   "name": "python3"
  },
  "language_info": {
   "codemirror_mode": {
    "name": "ipython",
    "version": 3
   },
   "file_extension": ".py",
   "mimetype": "text/x-python",
   "name": "python",
   "nbconvert_exporter": "python",
   "pygments_lexer": "ipython3",
   "version": "3.11.8"
  }
 },
 "nbformat": 4,
 "nbformat_minor": 4
}
