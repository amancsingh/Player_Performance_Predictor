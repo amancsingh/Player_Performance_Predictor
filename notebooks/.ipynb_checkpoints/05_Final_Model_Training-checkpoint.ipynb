{
 "cells": [
  {
   "cell_type": "markdown",
   "metadata": {},
   "source": [
    "# Player Performance Predictor - Final Model Training\n",
    "\n",
    "**Goal:** Build our definitive, high-accuracy, format-specific **classification** models based on our final agreed-upon strategy."
   ]
  },
  {
   "cell_type": "markdown",
   "metadata": {},
   "source": [
    "### Step 1: Configuration - CHOOSE THE FORMAT TO TRAIN\n",
    "\n",
    "**Action:** Change the value of the `MATCH_FORMAT_TO_TRAIN` variable below to either 'T20', 'ODI', or 'Test'. Then, run the entire notebook (`Kernel > Restart & Run All`)."
   ]
  },
  {
   "cell_type": "code",
   "execution_count": null,
   "metadata": {},
   "outputs": [],
   "source": [
    "MATCH_FORMAT_TO_TRAIN = \"T20\" # <-- CHANGE THIS VALUE (e.g., \"ODI\" or \"Test\")\n",
    "\n",
    "print(f\"Configuration set to train models for: {MATCH_FORMAT_TO_TRAIN}\")"
   ]
  },
  {
   "cell_type": "markdown",
   "metadata": {},
   "source": [
    "### Step 2: Load Data & Define Custom Bins"
   ]
  },
  {
   "cell_type": "code",
   "execution_count": null,
   "metadata": {},
   "outputs": [],
   "source": [
    "import pandas as pd\n",
    "import numpy as np\n",
    "import sqlite3\n",
    "import joblib\n",
    "import os\n",
    "from sklearn.model_selection import train_test_split\n",
    "from sklearn.ensemble import RandomForestClassifier\n",
    "from sklearn.metrics import accuracy_score, classification_report\n",
    "\n",
    "# --- Load the new, enriched database ---\n",
    "db_path = '../cricket_final_data.db'\n",
    "conn = sqlite3.connect(db_path)\n",
    "batting_df_full = pd.read_sql_query(\"SELECT * FROM batting_stats\", conn)\n",
    "bowling_df_full = pd.read_sql_query(\"SELECT * FROM bowling_stats\", conn)\n",
    "conn.close()\n",
    "\n",
    "# Filter for the chosen format\n",
    "batting_df = batting_df_full[batting_df_full['match_type'] == MATCH_FORMAT_TO_TRAIN].copy()\n",
    "bowling_df = bowling_df_full[bowling_df_full['match_type'] == MATCH_FORMAT_TO_TRAIN].copy()\n",
    "batting_df['date'] = pd.to_datetime(batting_df['date'])\n",
    "bowling_df['date'] = pd.to_datetime(bowling_df['date'])\n",
    "print(f\"Data loaded for {MATCH_FORMAT_TO_TRAIN}.\")\n",
    "\n",
    "# --- Define Custom, Format-Specific Bins --- #\n",
    "if MATCH_FORMAT_TO_TRAIN == 'T20':\n",
    "    run_bins = [-1, 15, 29, 49, 999]\n",
    "    run_labels = ['0-15', '16-29', '30-49', '50+']\n",
    "    wicket_bins = [-1, 1, 3, 99]\n",
    "    wicket_labels = ['0-1', '2-3', '4+']\n",
    "elif MATCH_FORMAT_TO_TRAIN == 'ODI':\n",
    "    run_bins = [-1, 24, 49, 99, 999]\n",
    "    run_labels = ['0-24', '25-49', '50-99', '100+']\n",
    "    wicket_bins = [-1, 1, 3, 99]\n",
    "    wicket_labels = ['0-1', '2-3', '4+']\n",
    "else: # Test\n",
    "    run_bins = [-1, 24, 49, 99, 999]\n",
    "    run_labels = ['0-24', '25-49', '50-99', '100+']\n",
    "    wicket_bins = [-1, 2, 4, 99]\n",
    "    wicket_labels = ['0-2', '3-4', '5+']\n",
    "\n",
    "# Apply the bins to create our target variable\n",
    "batting_df['runs_bin'] = pd.cut(batting_df['runs'], bins=run_bins, labels=run_labels)\n",
    "bowling_df['wickets_bin'] = pd.cut(bowling_df['wickets'], bins=wicket_bins, labels=wicket_labels)\n",
    "print(\"Custom performance bins defined and applied.\")"
   ]
  },
  {
   "cell_type": "markdown",
   "metadata": {},
   "source": [
    "## Part A: Training the Batting Classification Model"
   ]
  },
  {
   "cell_type": "markdown",
   "metadata": {},
   "source": [
    "### Step 3: Feature Engineering for Batting"
   ]
  },
  {
   "cell_type": "code",
   "execution_count": null,
   "metadata": {},
   "outputs": [],
   "source": [
    "print(\"Creating features for batting data...\")\n",
    "# --- Calculate Career Averages & Strike Rates --- #\n",
    "batting_df['career_avg'] = np.where(batting_df['career_innings'] > 0, batting_df['career_runs'] / batting_df['career_innings'], 0)\n",
    "batting_df['career_sr'] = np.where(batting_df['career_balls_faced'] > 0, (batting_df['career_runs'] / batting_df['career_balls_faced']) * 100, 0)\n",
    "\n",
    "# --- Calculate 10-Inning Form --- #\n",
    "batting_df['form_avg_last_10'] = batting_df.groupby('player')['runs'].transform(lambda x: x.rolling(window=10, min_periods=1).mean().shift(1))\n",
    "batting_df['form_avg_last_10'] = batting_df['form_avg_last_10'].fillna(0)\n",
    "\n",
    "# --- Create Contextual Features --- #\n",
    "match_teams = batting_df_full.groupby('match_id')['team'].unique().apply(list).to_dict()\n",
    "def find_opposition(row):\n",
    "    teams_in_match = match_teams.get(row['match_id'])\n",
    "    if teams_in_match and len(teams_in_match) == 2:\n",
    "        return teams_in_match[1] if teams_in_match[0] == row['team'] else teams_in_match[0]\n",
    "    return 'N/A'\n",
    "batting_df['against_team'] = batting_df.apply(find_opposition, axis=1)\n",
    "\n",
    "print(\"Feature engineering complete.\")"
   ]
  },
  {
   "cell_type": "markdown",
   "metadata": {},
   "source": [
    "### Step 4: Prepare Batting Data for Modeling"
   ]
  },
  {
   "cell_type": "code",
   "execution_count": null,
   "metadata": {},
   "outputs": [],
   "source": [
    "# Drop rows where the bin is unknown or there are missing values in key columns\n",
    "batting_df.dropna(subset=['runs_bin', 'player', 'venue', 'against_team'], inplace=True)\n",
    "\n",
    "# Define our features and target\n",
    "categorical_features = ['player', 'venue', 'against_team']\n",
    "numerical_features = ['career_avg', 'career_sr', 'career_innings', 'form_avg_last_10']\n",
    "target = 'runs_bin'\n",
    "\n",
    "X = pd.concat([\n",
    "    pd.get_dummies(batting_df[categorical_features], columns=categorical_features),\n",
    "    batting_df[numerical_features]\n",
    "], axis=1)\n",
    "y = batting_df[target]\n",
    "\n",
    "print(\"Batting data prepared.\")\n",
    "print(f\"Final shape of {MATCH_FORMAT_TO_TRAIN} batting feature matrix (X):\", X.shape)"
   ]
  },
  {
   "cell_type": "markdown",
   "metadata": {},
   "source": [
    "### Step 5: Train & Evaluate the Batting Classifier"
   ]
  },
  {
   "cell_type": "code",
   "execution_count": null,
   "metadata": {},
   "outputs": [],
   "source": [
    "X_train, X_test, y_train, y_test = train_test_split(X, y, test_size=0.2, random_state=42, stratify=y)\n",
    "\n",
    "# Use one less than the total number of CPU cores\n",
    "n_jobs = max(1, os.cpu_count() - 1)\n",
    "\n",
    "batting_classifier = RandomForestClassifier(n_estimators=100, random_state=42, n_jobs=n_jobs, verbose=2)\n",
    "\n",
    "print(f\"Training the {MATCH_FORMAT_TO_TRAIN} batting classifier using {n_jobs} cores...\")\n",
    "batting_classifier.fit(X_train, y_train)\n",
    "print(\"Training complete.\")\n",
    "\n",
    "# Evaluation\n",
    "predictions = batting_classifier.predict(X_test)\n",
    "accuracy = accuracy_score(y_test, predictions)\n",
    "\n",
    "print(f\"\\n--- {MATCH_FORMAT_TO_TRAIN} Batting Model Evaluation ---\")\n",
    "print(f\"Overall Accuracy: {accuracy * 100:.2f}%\")\n",
    "print(\"\\nClassification Report:\")\n",
    "print(classification_report(y_test, predictions, zero_division=0))"
   ]
  },
  {
   "cell_type": "markdown",
   "metadata": {},
   "source": [
    "### Step 6: Save the Trained Batting Classifier"
   ]
  },
  {
   "cell_type": "code",
   "execution_count": null,
   "metadata": {},
   "outputs": [],
   "source": [
    "if not os.path.exists('../models'):\n",
    "    os.makedirs('../models')\n",
    "\n",
    "model_filename = f'../models/{MATCH_FORMAT_TO_TRAIN.lower()}_batting_classifier.joblib'\n",
    "columns_filename = f'../models/{MATCH_FORMAT_TO_TRAIN.lower()}_batting_columns.joblib'\n",
    "\n",
    "joblib.dump(batting_classifier, model_filename)\n",
    "joblib.dump(X.columns, columns_filename)\n",
    "\n",
    "print(f\"{MATCH_FORMAT_TO_TRAIN} batting classifier and columns saved successfully.\")"
   ]
  },
  {
   "cell_type": "markdown",
   "metadata": {},
   "source": [
    "## (Optional) Part B is structured identically for the bowling model. "
   ]
  }
 ],
 "metadata": {
  "kernelspec": {
   "display_name": "Python 3 (ipykernel)",
   "language": "python",
   "name": "python3"
  },
  "language_info": {
   "codemirror_mode": {
    "name": "ipython",
    "version": 3
   },
   "file_extension": ".py",
   "mimetype": "text/x-python",
   "name": "python",
   "nbconvert_exporter": "python",
   "pygments_lexer": "ipython3",
   "version": "3.11.7"
  }
 },
 "nbformat": 4,
 "nbformat_minor": 5
}

