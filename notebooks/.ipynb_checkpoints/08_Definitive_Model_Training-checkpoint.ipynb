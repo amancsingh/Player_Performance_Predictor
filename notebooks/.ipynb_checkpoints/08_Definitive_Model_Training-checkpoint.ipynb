{
 "cells": [
  {
   "cell_type": "markdown",
   "metadata": {},
   "source": [
    "# Player Performance Predictor - Definitive Model Training\n",
    "\n",
    "**Goal:** Build our final, high-accuracy, format-specific classification models using our definitive strategy: format-specific career stats, the full dataset for each format, and the SMOTE technique to solve class imbalance."
   ]
  },
  {
   "cell_type": "markdown",
   "metadata": {},
   "source": [
    "### Step 1: Configuration - CHOOSE THE FORMAT TO TRAIN\n",
    "\n",
    "**Action:** Change the value of the `MATCH_FORMAT_TO_TRAIN` variable below to either 'T20', 'ODI', or 'Test'. Then, run the entire notebook (`Kernel > Restart & Run All`)."
   ]
  },
  {
   "cell_type": "code",
   "execution_count": null,
   "metadata": {},
   "outputs": [],
   "source": [
    "MATCH_FORMAT_TO_TRAIN = \"T20\" # <-- CHANGE THIS VALUE (e.g., \"ODI\" or \"Test\")\n",
    "\n",
    "print(f\"Configuration set to train models for: {MATCH_FORMAT_TO_TRAIN}\")"
   ]
  },
  {
   "cell_type": "markdown",
   "metadata": {},
   "source": [
    "### Step 2: Load Data & Define Custom Bins"
   ]
  },
  {
   "cell_type": "code",
   "execution_count": null,
   "metadata": {},
   "outputs": [],
   "source": [
    "import pandas as pd\n",
    "import numpy as np\n",
    "import sqlite3\n",
    "import joblib\n",
    "import os\n",
    "from sklearn.model_selection import train_test_split\n",
    "from sklearn.ensemble import RandomForestClassifier\n",
    "from sklearn.metrics import accuracy_score, classification_report\n",
    "from imblearn.over_sampling import SMOTE\n",
    "\n",
    "# --- Load the new, definitive database ---\n",
    "db_path = '../cricket_final_data_by_format.db'\n",
    "conn = sqlite3.connect(db_path)\n",
    "batting_df_full = pd.read_sql_query(\"SELECT * FROM batting_stats\", conn)\n",
    "bowling_df_full = pd.read_sql_query(\"SELECT * FROM bowling_stats\", conn)\n",
    "conn.close()\n",
    "\n",
    "# Filter for the chosen format\n",
    "batting_df = batting_df_full[batting_df_full['match_type'] == MATCH_FORMAT_TO_TRAIN].copy()\n",
    "bowling_df = bowling_df_full[bowling_df_full['match_type'] == MATCH_FORMAT_TO_TRAIN].copy()\n",
    "batting_df['date'] = pd.to_datetime(batting_df['date'])\n",
    "bowling_df['date'] = pd.to_datetime(bowling_df['date'])\n",
    "print(f\"Data loaded for {MATCH_FORMAT_TO_TRAIN}.\")\n",
    "\n",
    "# --- Define Custom, Format-Specific Bins --- #\n",
    "if MATCH_FORMAT_TO_TRAIN == 'T20':\n",
    "    run_bins = [-1, 15, 29, 49, 999]\n",
    "    run_labels = ['0-15', '16-29', '30-49', '50+']\n",
    "    wicket_bins = [-1, 1, 3, 99]\n",
    "    wicket_labels = ['0-1', '2-3', '4+']\n",
    "elif MATCH_FORMAT_TO_TRAIN == 'ODI':\n",
    "    run_bins = [-1, 24, 49, 99, 999]\n",
    "    run_labels = ['0-24', '25-49', '50-99', '100+']\n",
    "    wicket_bins = [-1, 1, 3, 99]\n",
    "    wicket_labels = ['0-1', '2-3', '4+']\n",
    "else: # Test\n",
    "    run_bins = [-1, 24, 49, 99, 999]\n",
    "    run_labels = ['0-24', '25-49', '50-99', '100+']\n",
    "    wicket_bins = [-1, 2, 4, 99]\n",
    "    wicket_labels = ['0-2', '3-4', '5+']\n",
    "\n",
    "batting_df['runs_bin'] = pd.cut(batting_df['runs'], bins=run_bins, labels=run_labels)\n",
    "bowling_df['wickets_bin'] = pd.cut(bowling_df['wickets'], bins=wicket_bins, labels=wicket_labels)\n",
    "print(\"Custom performance bins defined and applied.\")"
   ]
  },
  {
   "cell_type": "markdown",
   "metadata": {},
   "source": [
    "## Part A: Training the Batting Classification Model"
   ]
  },
  {
   "cell_type": "markdown",
   "metadata": {},
   "source": [
    "### Step 3: Feature Engineering for Batting"
   ]
  },
  {
   "cell_type": "code",
   "execution_count": null,
   "metadata": {},
   "outputs": [],
   "source": [
    "print(\"Creating features for batting data...\")\n",
    "# --- Calculate Career Averages & Strike Rates --- #\n",
    "batting_df['career_avg'] = np.where(batting_df['career_innings'] > 0, batting_df['career_runs'] / batting_df['career_innings'], 0)\n",
    "batting_df['career_sr'] = np.where(batting_df['career_balls_faced'] > 0, (batting_df['career_runs'] / batting_df['career_balls_faced']) * 100, 0)\n",
    "\n",
    "# --- Calculate 10-Inning Form --- #\n",
    "batting_df['form_avg_last_10'] = batting_df.groupby('player')['runs'].transform(lambda x: x.rolling(window=10, min_periods=1).mean().shift(1))\n",
    "batting_df['form_avg_last_10'] = batting_df['form_avg_last_10'].fillna(0)\n",
    "\n",
    "# --- Create Contextual Features --- #\n",
    "match_teams = batting_df_full.groupby('match_id')['team'].unique().apply(list).to_dict()\n",
    "def find_opposition(row):\n",
    "    teams_in_match = match_teams.get(row['match_id'])\n",
    "    if teams_in_match and len(teams_in_match) == 2:\n",
    "        return teams_in_match[1] if teams_in_match[0] == row['team'] else teams_in_match[0]\n",
    "    return 'N/A'\n",
    "batting_df['against_team'] = batting_df.apply(find_opposition, axis=1)\n",
    "\n",
    "print(\"Feature engineering complete.\")"
   ]
  },
  {
   "cell_type": "markdown",
   "metadata": {},
   "source": [
    "### Step 4: Prepare Batting Data for Modeling"
   ]
  },
  {
   "cell_type": "code",
   "execution_count": null,
   "metadata": {},
   "outputs": [],
   "source": [
    "batting_df.dropna(subset=['runs_bin', 'player', 'venue', 'against_team'], inplace=True)\n",
    "\n",
    "categorical_features = ['player', 'venue', 'against_team']\n",
    "numerical_features = ['career_avg', 'career_sr', 'career_innings', 'form_avg_last_10']\n",
    "target = 'runs_bin'\n",
    "\n",
    "X = pd.concat([\n",
    "    pd.get_dummies(batting_df[categorical_features], columns=categorical_features),\n",
    "    batting_df[numerical_features]\n",
    "], axis=1)\n",
    "y = batting_df[target]\n",
    "\n",
    "print(\"Batting data prepared.\")\n",
    "print(f\"Final shape of {MATCH_FORMAT_TO_TRAIN} batting feature matrix (X):\", X.shape)"
   ]
  },
  {
   "cell_type": "markdown",
   "metadata": {},
   "source": [
    "### Step 5: Train & Evaluate the Batting Classifier (with SMOTE)"
   ]
  },
  {
   "cell_type": "code",
   "execution_count": null,
   "metadata": {},
   "outputs": [],
   "source": [
    "X_train, X_test, y_train, y_test = train_test_split(X, y, test_size=0.2, random_state=42, stratify=y)\n",
    "\n",
    "print(f\"Original training set shape: {X_train.shape}\")\n",
    "print(f\"Original training class distribution:\\n{y_train.value_counts(normalize=True)}\")\n",
    "\n",
    "print(\"\\nApplying SMOTE to balance the training data... This may take a moment.\")\n",
    "smote = SMOTE(random_state=42)\n",
    "X_train_res, y_train_res = smote.fit_resample(X_train, y_train)\n",
    "print(f\"Resampled training set shape: {X_train_res.shape}\")\n",
    "print(f\"Resampled training class distribution:\\n{y_train_res.value_counts(normalize=True)}\")\n",
    "\n",
    "n_jobs = max(1, os.cpu_count() - 1)\n",
    "batting_classifier = RandomForestClassifier(n_estimators=100, random_state=42, n_jobs=n_jobs, verbose=2)\n",
    "\n",
    "print(f\"\\nTraining the {MATCH_FORMAT_TO_TRAIN} batting classifier on the balanced dataset...\")\n",
    "batting_classifier.fit(X_train_res, y_train_res)\n",
    "print(\"Training complete.\")\n",
    "\n",
    "predictions = batting_classifier.predict(X_test)\n",
    "accuracy = accuracy_score(y_test, predictions)\n",
    "\n",
    "print(f\"\\n--- {MATCH_FORMAT_TO_TRAIN} Batting Model Evaluation ---\")\n",
    "print(f\"Overall Accuracy: {accuracy * 100:.2f}%\")\n",
    "print(\"\\nClassification Report:\")\n",
    "print(classification_report(y_test, predictions, zero_division=0))"
   ]
  },
  {
   "cell_type": "markdown",
   "metadata": {},
   "source": [
    "### Step 6: Save the Trained Batting Classifier"
   ]
  },
  {
   "cell_type": "code",
   "execution_count": null,
   "metadata": {},
   "outputs": [],
   "source": [
    "if not os.path.exists('../models'):\n",
    "    os.makedirs('../models')\n",
    "\n",
    "model_filename = f'../models/{MATCH_FORMAT_TO_TRAIN.lower()}_batting_classifier.joblib'\n",
    "columns_filename = f'../models/{MATCH_FORMAT_TO_TRAIN.lower()}_batting_columns.joblib'\n",
    "\n",
    "joblib.dump(batting_classifier, model_filename)\n",
    "joblib.dump(X.columns, columns_filename)\n",
    "\n",
    "print(f\"{MATCH_FORMAT_TO_TRAIN} batting classifier and columns saved successfully.\")"
   ]
  },
  {
   "cell_type": "markdown",
   "metadata": {},
   "source": [
    "---"
   ]
  },
  {
   "cell_type": "markdown",
   "metadata": {},
   "source": [
    "## Part B: Training the Bowling Classification Model"
   ]
  },
  {
   "cell_type": "markdown",
   "metadata": {},
   "source": [
    "### Step 7: Feature Engineering for Bowling"
   ]
  },
  {
   "cell_type": "code",
   "execution_count": null,
   "metadata": {},
   "outputs": [],
   "source": [
    "print(\"\\nCreating features for bowling data...\")\n",
    "bowling_df['career_bowling_avg'] = np.where(bowling_df['career_wickets'] > 0, bowling_df['career_runs_conceded'] / bowling_df['career_wickets'], 0)\n",
    "bowling_df['career_bowling_sr'] = np.where(bowling_df['career_wickets'] > 0, bowling_df['career_balls_bowled'] / bowling_df['career_wickets'], 0)\n",
    "bowling_df['form_wickets_last_10'] = bowling_df.groupby('player')['wickets'].transform(lambda x: x.rolling(window=10, min_periods=1).mean().shift(1))\n",
    "bowling_df['form_wickets_last_10'] = bowling_df['form_wickets_last_10'].fillna(0)\n",
    "bowling_df['against_team'] = bowling_df.apply(find_opposition, axis=1)\n",
    "print(\"Feature engineering complete.\")"
   ]
  },
  {
   "cell_type": "markdown",
   "metadata": {},
   "source": [
    "### Step 8: Prepare Bowling Data for Modeling"
   ]
  },
  {
   "cell_type": "code",
   "execution_count": null,
   "metadata": {},
   "outputs": [],
   "source": [
    "bowling_df.dropna(subset=['wickets_bin', 'player', 'venue', 'against_team'], inplace=True)\n",
    "\n",
    "categorical_features_bowling = ['player', 'venue', 'against_team']\n",
    "numerical_features_bowling = ['career_bowling_avg', 'career_bowling_sr', 'form_wickets_last_10']\n",
    "target_bowling = 'wickets_bin'\n",
    "\n",
    "X_bowling = pd.concat([\n",
    "    pd.get_dummies(bowling_df[categorical_features_bowling], columns=categorical_features_bowling),\n",
    "    bowling_df[numerical_features_bowling]\n",
    "], axis=1)\n",
    "y_bowling = bowling_df[target_bowling]\n",
    "\n",
    "print(\"Bowling data prepared.\")\n",
    "print(f\"Final shape of {MATCH_FORMAT_TO_TRAIN} bowling feature matrix (X):\", X_bowling.shape)"
   ]
  },
  {
   "cell_type": "markdown",
   "metadata": {},
   "source": [
    "### Step 9: Train & Evaluate the Bowling Classifier (with SMOTE)"
   ]
  },
  {
   "cell_type": "code",
   "execution_count": null,
   "metadata": {},
   "outputs": [],
   "source": [
    "X_train_b, X_test_b, y_train_b, y_test_b = train_test_split(X_bowling, y_bowling, test_size=0.2, random_state=42, stratify=y_bowling)\n",
    "\n",
    "print(f\"Original training set shape: {X_train_b.shape}\")\n",
    "print(f\"Original training class distribution:\\n{y_train_b.value_counts(normalize=True)}\")\n",
    "\n",
    "print(\"\\nApplying SMOTE to balance the training data...\")\n",
    "smote_b = SMOTE(random_state=42)\n",
    "X_train_res_b, y_train_res_b = smote_b.fit_resample(X_train_b, y_train_b)\n",
    "print(f\"Resampled training set shape: {X_train_res_b.shape}\")\n",
    "print(f\"Resampled training class distribution:\\n{y_train_res_b.value_counts(normalize=True)}\")\n",
    "\n",
    "n_jobs = max(1, os.cpu_count() - 1)\n",
    "bowling_classifier = RandomForestClassifier(n_estimators=100, random_state=42, n_jobs=n_jobs, verbose=2)\n",
    "\n",
    "print(f\"\\nTraining the {MATCH_FORMAT_TO_TRAIN} bowling classifier...\")\n",
    "bowling_classifier.fit(X_train_res_b, y_train_res_b)\n",
    "print(\"Training complete.\")\n",
    "\n",
    "predictions_b = bowling_classifier.predict(X_test_b)\n",
    "accuracy_b = accuracy_score(y_test_b, predictions_b)\n",
    "\n",
    "print(f\"\\n--- {MATCH_FORMAT_TO_TRAIN} Bowling Model Evaluation ---\")\n",
    "print(f\"Overall Accuracy: {accuracy_b * 100:.2f}%\")\n",
    "print(\"\\nClassification Report:\")\n",
    "print(classification_report(y_test_b, predictions_b, zero_division=0))"
   ]
  },
  {
   "cell_type": "markdown",
   "metadata": {},
   "source": [
    "### Step 10: Save the Trained Bowling Classifier"
   ]
  },
  {
   "cell_type": "code",
   "execution_count": null,
   "metadata": {},
   "outputs": [],
   "source": [
    "model_filename_bowling = f'../models/{MATCH_FORMAT_TO_TRAIN.lower()}_bowling_classifier.joblib'\n",
    "columns_filename_bowling = f'../models/{MATCH_FORMAT_TO_TRAIN.lower()}_bowling_columns.joblib'\n",
    "\n",
    "joblib.dump(bowling_classifier, model_filename_bowling)\n",
    "joblib.dump(X_bowling.columns, columns_filename_bowling)\n",
    "\n",
    "print(f\"{MATCH_FORMAT_TO_TRAIN} bowling classifier and columns saved successfully.\")"
   ]
  }
 ],
 "metadata": {
  "kernelspec": {
   "display_name": "Python 3 (ipykernel)",
   "language": "python",
   "name": "python3"
  },
  "language_info": {
   "codemirror_mode": {
    "name": "ipython",
    "version": 3
   },
   "file_extension": ".py",
   "mimetype": "text/x-python",
   "name": "python",
   "nbconvert_exporter": "python",
   "pygments_lexer": "ipython3",
   "version": "3.11.7"
  }
 },
 "nbformat": 4,
 "nbformat_minor": 5
}
