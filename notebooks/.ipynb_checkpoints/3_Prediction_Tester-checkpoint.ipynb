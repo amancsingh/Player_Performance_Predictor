{
 "cells": [
  {
   "cell_type": "markdown",
   "id": "592dfb29",
   "metadata": {},
   "source": [
    "# Player Performance Predictor - Instant Prediction Tester\n",
    "\n",
    "**Goal:** This notebook is for testing our saved models. It does **not** perform any training. It loads our pre-trained models and makes instant predictions.\n",
    "\n",
    "**How to Use:** Simply run all the cells. Then, change the `player`, `venue`, and `opposition` variables in the last cell to test any scenario you want."
   ]
  },
  {
   "cell_type": "markdown",
   "id": "1c45ee4c",
   "metadata": {},
   "source": [
    "### Step 1: Load Libraries and All Required Files"
   ]
  },
  {
   "cell_type": "code",
   "execution_count": 1,
   "id": "4ac639d3",
   "metadata": {},
   "outputs": [
    {
     "name": "stdout",
     "output_type": "stream",
     "text": [
      "Models and column lists loaded successfully.\n",
      "Full historical data loaded for form calculation.\n"
     ]
    }
   ],
   "source": [
    "import pandas as pd\n",
    "import sqlite3\n",
    "import joblib\n",
    "\n",
    "# --- Load the Saved Models and Columns --- #\n",
    "try:\n",
    "    saved_batting_model = joblib.load('../models/batting_predictor_model.joblib')\n",
    "    saved_batting_columns = joblib.load('../models/batting_model_columns.joblib')\n",
    "    saved_bowling_model = joblib.load('../models/bowling_predictor_model.joblib')\n",
    "    saved_bowling_columns = joblib.load('../models/bowling_model_columns.joblib')\n",
    "    print(\"Models and column lists loaded successfully.\")\n",
    "except FileNotFoundError:\n",
    "    print(\"ERROR: Model files not found. Please run the '2_Model_Training.ipynb' notebook first.\")\n",
    "\n",
    "# --- Load the full raw data (needed to calculate a player's form) --- #\n",
    "db_path = '../cricket_data.db'\n",
    "conn = sqlite3.connect(db_path)\n",
    "batting_df = pd.read_sql_query(\"SELECT * FROM batting_innings\", conn)\n",
    "bowling_df = pd.read_sql_query(\"SELECT * FROM bowling_innings\", conn)\n",
    "conn.close()\n",
    "batting_df['date'] = pd.to_datetime(batting_df['date'])\n",
    "bowling_df['date'] = pd.to_datetime(bowling_df['date'])\n",
    "print(\"Full historical data loaded for form calculation.\")"
   ]
  },
  {
   "cell_type": "markdown",
   "id": "6d7d996f",
   "metadata": {},
   "source": [
    "### Step 2: Define the Prediction Function"
   ]
  },
  {
   "cell_type": "code",
   "execution_count": 2,
   "id": "351980cf",
   "metadata": {},
   "outputs": [
    {
     "name": "stdout",
     "output_type": "stream",
     "text": [
      "Prediction function is ready.\n"
     ]
    }
   ],
   "source": [
    "def predict_performance(player_name, venue, opposition, full_batting_df, full_bowling_df):\n",
    "    \"\"\"\n",
    "    Predicts both runs and wickets for a player given the context.\n",
    "    \"\"\"\n",
    "    \n",
    "    # --- Batting Prediction ---\n",
    "    try:\n",
    "        player_batting_history = full_batting_df[full_batting_df['player'] == player_name].sort_values(by='date')\n",
    "        if player_batting_history.empty:\n",
    "            predicted_runs = \"Batting data not found.\"\n",
    "        else:\n",
    "            last_5_innings_form = player_batting_history['runs'].tail(5).mean()\n",
    "            batting_input = pd.DataFrame(columns=saved_batting_columns, index=[0]).fillna(0)\n",
    "            \n",
    "            player_col = f\"player_reduced_{player_name}\"\n",
    "            venue_col = f\"venue_reduced_{venue}\"\n",
    "            opposition_col = f\"against_team_reduced_{opposition}\"\n",
    "\n",
    "            if player_col in batting_input.columns:\n",
    "                batting_input.loc[0, player_col] = 1\n",
    "            else:\n",
    "                batting_input.loc[0, 'player_reduced_Other_Player'] = 1\n",
    "\n",
    "            if venue_col in batting_input.columns:\n",
    "                batting_input.loc[0, venue_col] = 1\n",
    "            else:\n",
    "                batting_input.loc[0, 'venue_reduced_Other_Venue'] = 1\n",
    "            \n",
    "            if opposition_col in batting_input.columns:\n",
    "                batting_input.loc[0, opposition_col] = 1\n",
    "            else:\n",
    "                batting_input.loc[0, 'against_team_reduced_Other_Team'] = 1\n",
    "\n",
    "            batting_input['form_last_5_innings'] = last_5_innings_form\n",
    "            prediction = saved_batting_model.predict(batting_input)\n",
    "            predicted_runs = f\"{prediction[0]:.2f}\"\n",
    "    except Exception as e:\n",
    "        predicted_runs = f\"An error occurred during batting prediction: {e}\"\n",
    "\n",
    "    # --- Bowling Prediction ---\n",
    "    try:\n",
    "        player_bowling_history = full_bowling_df[full_bowling_df['player'] == player_name].sort_values(by='date')\n",
    "        if player_bowling_history.empty:\n",
    "            predicted_wickets = \"No bowling history found for this player.\"\n",
    "        else:\n",
    "            last_5_wickets_form = player_bowling_history['wickets'].tail(5).mean()\n",
    "            bowling_input = pd.DataFrame(columns=saved_bowling_columns, index=[0]).fillna(0)\n",
    "            \n",
    "            player_col_bowl = f\"player_reduced_{player_name}\"\n",
    "            venue_col_bowl = f\"venue_reduced_{venue}\"\n",
    "            opposition_col_bowl = f\"against_team_reduced_{opposition}\"\n",
    "\n",
    "            if player_col_bowl in bowling_input.columns:\n",
    "                bowling_input.loc[0, player_col_bowl] = 1\n",
    "            else:\n",
    "                bowling_input.loc[0, 'player_reduced_Other_Player'] = 1\n",
    "\n",
    "            if venue_col_bowl in bowling_input.columns:\n",
    "                bowling_input.loc[0, venue_col_bowl] = 1\n",
    "            else:\n",
    "                bowling_input.loc[0, 'venue_reduced_Other_Venue'] = 1\n",
    "\n",
    "            if opposition_col_bowl in bowling_input.columns:\n",
    "                bowling_input.loc[0, opposition_col_bowl] = 1\n",
    "            else:\n",
    "                bowling_input.loc[0, 'against_team_reduced_Other_Team'] = 1\n",
    "\n",
    "            bowling_input['form_last_5_wickets'] = last_5_wickets_form\n",
    "            prediction_wickets = saved_bowling_model.predict(bowling_input)\n",
    "            predicted_wickets = f\"{prediction_wickets[0]:.2f}\"\n",
    "    except Exception as e:\n",
    "        predicted_wickets = f\"An error occurred during bowling prediction: {e}\"\n",
    "\n",
    "    return predicted_runs, predicted_wickets\n",
    "\n",
    "print(\"Prediction function is ready.\")"
   ]
  },
  {
   "cell_type": "markdown",
   "id": "ee45bfea",
   "metadata": {},
   "source": [
    "### Step 3: Test a Prediction!"
   ]
  },
  {
   "cell_type": "code",
   "execution_count": 3,
   "id": "2c661fae",
   "metadata": {},
   "outputs": [
    {
     "name": "stdout",
     "output_type": "stream",
     "text": [
      "--- Prediction Result ---\n",
      "Player: RG Sharma\n",
      "Venue: Eden Gardens, Kolkata\n",
      "Opposition: Australia\n",
      "\n",
      "Predicted Runs: 26.09\n",
      "Predicted Wickets: 1.04\n"
     ]
    },
    {
     "name": "stderr",
     "output_type": "stream",
     "text": [
      "C:\\Users\\Aman\\AppData\\Local\\Temp\\ipykernel_152456\\3951813419.py:13: FutureWarning: Downcasting object dtype arrays on .fillna, .ffill, .bfill is deprecated and will change in a future version. Call result.infer_objects(copy=False) instead. To opt-in to the future behavior, set `pd.set_option('future.no_silent_downcasting', True)`\n",
      "  batting_input = pd.DataFrame(columns=saved_batting_columns, index=[0]).fillna(0)\n",
      "[Parallel(n_jobs=12)]: Using backend ThreadingBackend with 12 concurrent workers.\n",
      "[Parallel(n_jobs=12)]: Done  17 tasks      | elapsed:    0.0s\n",
      "[Parallel(n_jobs=12)]: Done 100 out of 100 | elapsed:    0.0s finished\n",
      "C:\\Users\\Aman\\AppData\\Local\\Temp\\ipykernel_152456\\3951813419.py:47: FutureWarning: Downcasting object dtype arrays on .fillna, .ffill, .bfill is deprecated and will change in a future version. Call result.infer_objects(copy=False) instead. To opt-in to the future behavior, set `pd.set_option('future.no_silent_downcasting', True)`\n",
      "  bowling_input = pd.DataFrame(columns=saved_bowling_columns, index=[0]).fillna(0)\n",
      "[Parallel(n_jobs=12)]: Using backend ThreadingBackend with 12 concurrent workers.\n",
      "[Parallel(n_jobs=12)]: Done  17 tasks      | elapsed:    0.0s\n",
      "[Parallel(n_jobs=12)]: Done 100 out of 100 | elapsed:    0.0s finished\n"
     ]
    }
   ],
   "source": [
    "# --- Change the values below to test any scenario ---\n",
    "player = \"RG Sharma\"\n",
    "venue = \"Eden Gardens, Kolkata\"\n",
    "opposition = \"Australia\"\n",
    "\n",
    "predicted_score, predicted_wickets = predict_performance(player, venue, opposition, batting_df, bowling_df)\n",
    "\n",
    "print(f\"--- Prediction Result ---\")\n",
    "print(f\"Player: {player}\")\n",
    "print(f\"Venue: {venue}\")\n",
    "print(f\"Opposition: {opposition}\")\n",
    "print(f\"\\nPredicted Runs: {predicted_score}\")\n",
    "print(f\"Predicted Wickets: {predicted_wickets}\")"
   ]
  },
  {
   "cell_type": "code",
   "execution_count": null,
   "id": "9b51f224-1a73-4dac-afee-0202219b53a7",
   "metadata": {},
   "outputs": [],
   "source": []
  }
 ],
 "metadata": {
  "kernelspec": {
   "display_name": "Python 3 (ipykernel)",
   "language": "python",
   "name": "python3"
  },
  "language_info": {
   "codemirror_mode": {
    "name": "ipython",
    "version": 3
   },
   "file_extension": ".py",
   "mimetype": "text/x-python",
   "name": "python",
   "nbconvert_exporter": "python",
   "pygments_lexer": "ipython3",
   "version": "3.11.8"
  }
 },
 "nbformat": 4,
 "nbformat_minor": 5
}
